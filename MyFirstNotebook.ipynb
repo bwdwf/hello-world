{
 "cells": [
  {
   "cell_type": "markdown",
   "metadata": {},
   "source": [
    "# Literals vs. Variables\n",
    "\n",
    "The notion of a *literal* is a bit clumsy to define. Data we've collected can consist of simple types such as numerical values, or character strings. They may also consist of complex data structures containing combinations of or relations among simpler types. We often store data values to be used later. The storage could be in a file on your disk drive, in a database, or one some web page. When we program, we build up complex data types out of simpler ones. The simple data types can be stored in temporary locations associated with what we call  *variables* in our programs.  Once a data is stored as a variable, we can use it as input to a function, copy it into a more complex data structure like and array or a dictionary.\n",
    "\n",
    "When we first create a variable of some type, we will often want to assign an initial value to it that does not involve *looking up/reading* that value from some other source. For example, we might want to initialize an integer variable to take the value 0, or 1, or a string to be the empty string \"\". When the right-hand side of an assignment does not involve a variable, but is literally *entered* in a raw fashion, we refer to that right hand side as a *literal*.\n",
    "\n",
    "In Python, we can have a literal string, float, int, list, dictionary, or tuple.\n"
   ]
  },
  {
   "cell_type": "markdown",
   "metadata": {},
   "source": [
    "# Strings in Python"
   ]
  },
  {
   "cell_type": "code",
   "execution_count": 2,
   "metadata": {},
   "outputs": [
    {
     "name": "stdout",
     "output_type": "stream",
     "text": [
      "<class 'str'>\n",
      "14\n",
      "t\n",
      "t\n",
      "s\n"
     ]
    }
   ],
   "source": [
    "st=\"this is a test\"\n",
    "print(type(st))\n",
    "#\n",
    "# we can create markdown cells for comments\n",
    "# or we can put comments inside cells consisting of code\n",
    "#\n",
    "n=len(st)\n",
    "print(n)\n",
    "#\n",
    "# we can refer to particular elements in a string using\n",
    "# square brackets with values 0,1,...,length of string-1.\n",
    "#\n",
    "print(st[0])\n",
    "print(st[len(st)-1])\n",
    "print(st[3])"
   ]
  },
  {
   "cell_type": "markdown",
   "metadata": {},
   "source": [
    "## substrings"
   ]
  },
  {
   "cell_type": "code",
   "execution_count": 3,
   "metadata": {},
   "outputs": [
    {
     "name": "stdout",
     "output_type": "stream",
     "text": [
      "ab\n",
      "cd\n",
      "cdefghij\n",
      "abcde\n"
     ]
    }
   ],
   "source": [
    "st=\"abcdefghij\"\n",
    "print(st[0:2]) # 0,1\n",
    "print(st[2:4]) # 2,3\n",
    "print(st[2:])  # 2,3,... end of string\n",
    "print(st[:5])  # 0,1,2,3,4"
   ]
  },
  {
   "cell_type": "markdown",
   "metadata": {},
   "source": [
    "## concatenation"
   ]
  },
  {
   "cell_type": "code",
   "execution_count": 4,
   "metadata": {},
   "outputs": [
    {
     "name": "stdout",
     "output_type": "stream",
     "text": [
      "dogcat\n"
     ]
    }
   ],
   "source": [
    "str1=\"dog\"\n",
    "str2=\"cat\"\n",
    "s=str1+str2\n",
    "print(s)"
   ]
  },
  {
   "cell_type": "markdown",
   "metadata": {},
   "source": [
    "## conversion to string"
   ]
  },
  {
   "cell_type": "code",
   "execution_count": 8,
   "metadata": {},
   "outputs": [
    {
     "name": "stdout",
     "output_type": "stream",
     "text": [
      "my temp is 98.6\n"
     ]
    }
   ],
   "source": [
    "str(98.6)\n",
    "print(\"my temp is \" + str(98.6))"
   ]
  },
  {
   "cell_type": "markdown",
   "metadata": {},
   "source": [
    "## str() doesn't work!\n",
    "\n",
    "If you define str to be a string, it will no longer represent the internal function you want it to. To make str() work again, you need to delete the str object you created."
   ]
  },
  {
   "cell_type": "code",
   "execution_count": 9,
   "metadata": {},
   "outputs": [
    {
     "ename": "TypeError",
     "evalue": "'str' object is not callable",
     "output_type": "error",
     "traceback": [
      "\u001b[1;31m---------------------------------------------------------------------------\u001b[0m",
      "\u001b[1;31mTypeError\u001b[0m                                 Traceback (most recent call last)",
      "\u001b[1;32m<ipython-input-9-eae00a0b8a32>\u001b[0m in \u001b[0;36m<module>\u001b[1;34m()\u001b[0m\n\u001b[0;32m      1\u001b[0m \u001b[0mstr\u001b[0m\u001b[1;33m=\u001b[0m\u001b[1;34m\"abc\"\u001b[0m\u001b[1;33m\u001b[0m\u001b[0m\n\u001b[1;32m----> 2\u001b[1;33m \u001b[0mstr\u001b[0m\u001b[1;33m(\u001b[0m\u001b[1;36m98.6\u001b[0m\u001b[1;33m)\u001b[0m\u001b[1;33m\u001b[0m\u001b[0m\n\u001b[0m",
      "\u001b[1;31mTypeError\u001b[0m: 'str' object is not callable"
     ]
    }
   ],
   "source": [
    "str=\"abc\"\n",
    "str(98.6)"
   ]
  },
  {
   "cell_type": "markdown",
   "metadata": {},
   "source": [
    "## Determining all local variables"
   ]
  },
  {
   "cell_type": "code",
   "execution_count": 10,
   "metadata": {},
   "outputs": [
    {
     "data": {
      "text/plain": [
       "{'In': ['',\n",
       "  'st',\n",
       "  'st=\"this is a test\"\\nprint(type(st))\\n#\\n# we can create markdown cells for comments\\n# or we can put comments inside cells consisting of code\\n#\\nn=len(st)\\nprint(n)\\n#\\n# we can refer to particular elements in a string using\\n# square brackets with values 0,1,...,length of string-1.\\n#\\nprint(st[0])\\nprint(st[len(st)-1])\\nprint(st[3])',\n",
       "  'st=\"abcdefghij\"\\nprint(st[0:2]) # 0,1\\nprint(st[2:4]) # 2,3\\nprint(st[2:])  # 2,3,... end of string\\nprint(st[:5])  # 0,1,2,3,4',\n",
       "  'str1=\"dog\"\\nstr2=\"cat\"\\ns=str1+str2\\nprint(s)',\n",
       "  'print(98.6)',\n",
       "  'print(\"98.6)',\n",
       "  'print(\"my temp is \" + 98.6)',\n",
       "  'str(98.6)\\nprint(\"my temp is \" + str(98.6))',\n",
       "  'str=\"abc\"\\nstr(98.6)',\n",
       "  'locals()'],\n",
       " 'Out': {},\n",
       " '_': '',\n",
       " '__': '',\n",
       " '___': '',\n",
       " '__builtin__': <module 'builtins' (built-in)>,\n",
       " '__builtins__': <module 'builtins' (built-in)>,\n",
       " '__doc__': 'Automatically created module for IPython interactive environment',\n",
       " '__loader__': None,\n",
       " '__name__': '__main__',\n",
       " '__package__': None,\n",
       " '__spec__': None,\n",
       " '_dh': ['c:\\\\Users\\\\dnaiman1\\\\Documents\\\\courses\\\\553.688.FinancialComputing.Fall.2018\\\\PythonNotebooks'],\n",
       " '_i': 'str=\"abc\"\\nstr(98.6)',\n",
       " '_i1': 'st',\n",
       " '_i10': 'locals()',\n",
       " '_i2': 'st=\"this is a test\"\\nprint(type(st))\\n#\\n# we can create markdown cells for comments\\n# or we can put comments inside cells consisting of code\\n#\\nn=len(st)\\nprint(n)\\n#\\n# we can refer to particular elements in a string using\\n# square brackets with values 0,1,...,length of string-1.\\n#\\nprint(st[0])\\nprint(st[len(st)-1])\\nprint(st[3])',\n",
       " '_i3': 'st=\"abcdefghij\"\\nprint(st[0:2]) # 0,1\\nprint(st[2:4]) # 2,3\\nprint(st[2:])  # 2,3,... end of string\\nprint(st[:5])  # 0,1,2,3,4',\n",
       " '_i4': 'str1=\"dog\"\\nstr2=\"cat\"\\ns=str1+str2\\nprint(s)',\n",
       " '_i5': 'print(98.6)',\n",
       " '_i6': 'print(\"98.6)',\n",
       " '_i7': 'print(\"my temp is \" + 98.6)',\n",
       " '_i8': 'str(98.6)\\nprint(\"my temp is \" + str(98.6))',\n",
       " '_i9': 'str=\"abc\"\\nstr(98.6)',\n",
       " '_ih': ['',\n",
       "  'st',\n",
       "  'st=\"this is a test\"\\nprint(type(st))\\n#\\n# we can create markdown cells for comments\\n# or we can put comments inside cells consisting of code\\n#\\nn=len(st)\\nprint(n)\\n#\\n# we can refer to particular elements in a string using\\n# square brackets with values 0,1,...,length of string-1.\\n#\\nprint(st[0])\\nprint(st[len(st)-1])\\nprint(st[3])',\n",
       "  'st=\"abcdefghij\"\\nprint(st[0:2]) # 0,1\\nprint(st[2:4]) # 2,3\\nprint(st[2:])  # 2,3,... end of string\\nprint(st[:5])  # 0,1,2,3,4',\n",
       "  'str1=\"dog\"\\nstr2=\"cat\"\\ns=str1+str2\\nprint(s)',\n",
       "  'print(98.6)',\n",
       "  'print(\"98.6)',\n",
       "  'print(\"my temp is \" + 98.6)',\n",
       "  'str(98.6)\\nprint(\"my temp is \" + str(98.6))',\n",
       "  'str=\"abc\"\\nstr(98.6)',\n",
       "  'locals()'],\n",
       " '_ii': 'str(98.6)\\nprint(\"my temp is \" + str(98.6))',\n",
       " '_iii': 'print(\"my temp is \" + 98.6)',\n",
       " '_oh': {},\n",
       " 'exit': <IPython.core.autocall.ZMQExitAutocall at 0x569ee10>,\n",
       " 'get_ipython': <bound method InteractiveShell.get_ipython of <ipykernel.zmqshell.ZMQInteractiveShell object at 0x000000000563F470>>,\n",
       " 'n': 14,\n",
       " 'quit': <IPython.core.autocall.ZMQExitAutocall at 0x569ee10>,\n",
       " 's': 'dogcat',\n",
       " 'st': 'abcdefghij',\n",
       " 'str': 'abc',\n",
       " 'str1': 'dog',\n",
       " 'str2': 'cat'}"
      ]
     },
     "execution_count": 10,
     "metadata": {},
     "output_type": "execute_result"
    }
   ],
   "source": [
    "locals()"
   ]
  },
  {
   "cell_type": "markdown",
   "metadata": {},
   "source": [
    "## We see that str was made into a local variable. Oops. Let's fix that."
   ]
  },
  {
   "cell_type": "code",
   "execution_count": 1,
   "metadata": {},
   "outputs": [
    {
     "data": {
      "text/plain": [
       "'98.6'"
      ]
     },
     "execution_count": 1,
     "metadata": {},
     "output_type": "execute_result"
    }
   ],
   "source": [
    "str=\"abc\"\n",
    "del(str)\n",
    "str(98.6)"
   ]
  },
  {
   "cell_type": "code",
   "execution_count": 2,
   "metadata": {},
   "outputs": [
    {
     "data": {
      "text/plain": [
       "{'__name__': '__main__',\n",
       " '__doc__': 'Automatically created module for IPython interactive environment',\n",
       " '__package__': None,\n",
       " '__loader__': None,\n",
       " '__spec__': None,\n",
       " '__builtin__': <module 'builtins' (built-in)>,\n",
       " '__builtins__': <module 'builtins' (built-in)>,\n",
       " '_ih': ['', 'str=\"abc\"\\ndel(str)\\nstr(98.6)', 'locals()'],\n",
       " '_oh': {1: '98.6'},\n",
       " '_dh': ['c:\\\\Users\\\\User\\\\Documents\\\\553.688.Fall.2019\\\\JupyterNotebooks'],\n",
       " 'In': ['', 'str=\"abc\"\\ndel(str)\\nstr(98.6)', 'locals()'],\n",
       " 'Out': {1: '98.6'},\n",
       " 'get_ipython': <bound method InteractiveShell.get_ipython of <ipykernel.zmqshell.ZMQInteractiveShell object at 0x00000263C5A86E10>>,\n",
       " 'exit': <IPython.core.autocall.ZMQExitAutocall at 0x263c5b08240>,\n",
       " 'quit': <IPython.core.autocall.ZMQExitAutocall at 0x263c5b08240>,\n",
       " '_': '98.6',\n",
       " '__': '',\n",
       " '___': '',\n",
       " '_i': 'str=\"abc\"\\ndel(str)\\nstr(98.6)',\n",
       " '_ii': '',\n",
       " '_iii': '',\n",
       " '_i1': 'str=\"abc\"\\ndel(str)\\nstr(98.6)',\n",
       " '_1': '98.6',\n",
       " '_i2': 'locals()'}"
      ]
     },
     "execution_count": 2,
     "metadata": {},
     "output_type": "execute_result"
    }
   ],
   "source": [
    "locals()"
   ]
  },
  {
   "cell_type": "markdown",
   "metadata": {},
   "source": [
    "# Lists"
   ]
  },
  {
   "cell_type": "code",
   "execution_count": 13,
   "metadata": {},
   "outputs": [
    {
     "name": "stdout",
     "output_type": "stream",
     "text": [
      "[1, 2]\n",
      "<class 'list'>\n"
     ]
    }
   ],
   "source": [
    "a=[1,2]\n",
    "print(a)\n",
    "print(type(a))"
   ]
  },
  {
   "cell_type": "code",
   "execution_count": 14,
   "metadata": {},
   "outputs": [
    {
     "name": "stdout",
     "output_type": "stream",
     "text": [
      "[3, 4, [1, 2]]\n"
     ]
    }
   ],
   "source": [
    "b=[3,4,a]\n",
    "print(b)"
   ]
  },
  {
   "cell_type": "code",
   "execution_count": 15,
   "metadata": {},
   "outputs": [
    {
     "name": "stdout",
     "output_type": "stream",
     "text": [
      "[[1, 2], [[1, 2], [3, 4, [1, 2]]], 'cat']\n"
     ]
    }
   ],
   "source": [
    "c=[a,[a,b],\"cat\"]\n",
    "print(c)"
   ]
  },
  {
   "cell_type": "code",
   "execution_count": 14,
   "metadata": {},
   "outputs": [
    {
     "name": "stdout",
     "output_type": "stream",
     "text": [
      "[1, 2]\n",
      "[[1, 2], [3, 4, [1, 2]]]\n",
      "cat\n",
      "[3, 4, [1, 2]]\n",
      "[1, 2]\n"
     ]
    }
   ],
   "source": [
    "print(c[0])\n",
    "print(c[1])\n",
    "print(c[2])\n",
    "print(c[1][1])\n",
    "print(c[1][1][2])"
   ]
  },
  {
   "cell_type": "markdown",
   "metadata": {},
   "source": [
    "# negative indices"
   ]
  },
  {
   "cell_type": "code",
   "execution_count": 53,
   "metadata": {},
   "outputs": [
    {
     "name": "stdout",
     "output_type": "stream",
     "text": [
      "f\n",
      "e\n",
      "['d', 'e', 'f']\n"
     ]
    }
   ],
   "source": [
    "x=['a','b','c','d','e','f']\n",
    "print(x[-1])\n",
    "print(x[-2])\n",
    "print(x[-3:])"
   ]
  },
  {
   "cell_type": "markdown",
   "metadata": {},
   "source": [
    "# List Methods\n",
    "## insert"
   ]
  },
  {
   "cell_type": "code",
   "execution_count": 17,
   "metadata": {},
   "outputs": [
    {
     "name": "stdout",
     "output_type": "stream",
     "text": [
      "[6, 2, 7, 8]\n",
      "[6, 2, ['f', 'g', [5, 6]], 7, 8]\n"
     ]
    }
   ],
   "source": [
    "a=[6,7,8]\n",
    "a.insert(1,2)\n",
    "print(a)\n",
    "a.insert(2,['f','g',[5,6]])\n",
    "print(a)"
   ]
  },
  {
   "cell_type": "markdown",
   "metadata": {},
   "source": [
    "## append"
   ]
  },
  {
   "cell_type": "code",
   "execution_count": 55,
   "metadata": {},
   "outputs": [
    {
     "name": "stdout",
     "output_type": "stream",
     "text": [
      "[6, 7, 8, 5]\n"
     ]
    }
   ],
   "source": [
    "a=[6,7,8]\n",
    "a.append(5)\n",
    "print(a)"
   ]
  },
  {
   "cell_type": "markdown",
   "metadata": {},
   "source": [
    "## remove"
   ]
  },
  {
   "cell_type": "code",
   "execution_count": 18,
   "metadata": {},
   "outputs": [
    {
     "name": "stdout",
     "output_type": "stream",
     "text": [
      "[5, 7, 8, 6, 5, 6, 1]\n"
     ]
    }
   ],
   "source": [
    "a=[5,6,7,8,6,5,6,1]\n",
    "a.remove(6)\n",
    "print(a)"
   ]
  },
  {
   "cell_type": "markdown",
   "metadata": {},
   "source": [
    "## sort"
   ]
  },
  {
   "cell_type": "code",
   "execution_count": 19,
   "metadata": {},
   "outputs": [
    {
     "name": "stdout",
     "output_type": "stream",
     "text": [
      "[0, 1, 2, 3, 4, 5, 6]\n"
     ]
    }
   ],
   "source": [
    "x=[4,2,5,1,3,0,6]\n",
    "x.sort()\n",
    "print(x)"
   ]
  },
  {
   "cell_type": "markdown",
   "metadata": {},
   "source": [
    "# Variables are _references_ \n",
    "\n",
    "Variables we define are actually references. The id function gives a unique identifier for every object we create. "
   ]
  },
  {
   "cell_type": "code",
   "execution_count": 20,
   "metadata": {},
   "outputs": [
    {
     "name": "stdout",
     "output_type": "stream",
     "text": [
      "35208416\n"
     ]
    }
   ],
   "source": [
    "s=\"abc\"\n",
    "print(id(s))"
   ]
  },
  {
   "cell_type": "markdown",
   "metadata": {},
   "source": [
    "Creating another variable and equating it to s does not create a new object. It simply makes that new variable point to the same object."
   ]
  },
  {
   "cell_type": "code",
   "execution_count": 21,
   "metadata": {},
   "outputs": [
    {
     "name": "stdout",
     "output_type": "stream",
     "text": [
      "abc\n",
      "35208416\n"
     ]
    }
   ],
   "source": [
    "t=s\n",
    "print(t)\n",
    "print(id(t))"
   ]
  },
  {
   "cell_type": "markdown",
   "metadata": {},
   "source": [
    "When we modify s by equating it to some other object we are saying make s refer to this other object. This will have no effect on t since t still points to the same object as before."
   ]
  },
  {
   "cell_type": "code",
   "execution_count": 22,
   "metadata": {},
   "outputs": [
    {
     "name": "stdout",
     "output_type": "stream",
     "text": [
      "original id of s = 91813288\n",
      "original id of t = 91813288\n",
      "new id of s = 43081376\n",
      "new id of t = 91813288\n"
     ]
    }
   ],
   "source": [
    "s=\"dog\"\n",
    "print(\"original id of s = \" + str(id(s)))\n",
    "t=s\n",
    "print(\"original id of t = \" + str(id(t)))\n",
    "s=\"cat\"\n",
    "print(\"new id of s = \" + str(id(s)))\n",
    "print(\"new id of t = \" + str(id(t)))"
   ]
  },
  {
   "cell_type": "markdown",
   "metadata": {},
   "source": [
    "## strings are _immutable_ & lists are _mutable_\n",
    "\n",
    "We can create new objects (e.g. substrings) from a given string but we cannot change a string. It is _immutable_.\n",
    "\n",
    "A list can change i.e. it is _mutable_. \n",
    "\n",
    "Failure to understand the distinction can lead to errors in coding."
   ]
  },
  {
   "cell_type": "code",
   "execution_count": 36,
   "metadata": {},
   "outputs": [
    {
     "name": "stdout",
     "output_type": "stream",
     "text": [
      "cat\n",
      "dog\n"
     ]
    }
   ],
   "source": [
    "s=\"dog\"   # create a string object 'dog' and make s point to it \n",
    "t=s       # t points to dog also\n",
    "s=\"cat\"   # create another string object 'cat' and make s point to it\n",
    "          # t still points to the previous string object\n",
    "          # that object remains in memory until all references to it \n",
    "          # are deleted\n",
    "print(s)\n",
    "print(t)  "
   ]
  },
  {
   "cell_type": "code",
   "execution_count": 37,
   "metadata": {},
   "outputs": [
    {
     "name": "stdout",
     "output_type": "stream",
     "text": [
      "96704584\n",
      "96704584\n"
     ]
    }
   ],
   "source": [
    "s=[1,2,3]\n",
    "print(id(s))\n",
    "s.append(4)   # object is modified but its id doesn't change\n",
    "              # we have not created a new object\n",
    "print(id(s))"
   ]
  },
  {
   "cell_type": "markdown",
   "metadata": {},
   "source": [
    "## what will happen in the following example?"
   ]
  },
  {
   "cell_type": "code",
   "execution_count": 23,
   "metadata": {},
   "outputs": [
    {
     "name": "stdout",
     "output_type": "stream",
     "text": [
      "[1, 2, 3, 4]\n"
     ]
    }
   ],
   "source": [
    "s=[1,2,3]\n",
    "t=s\n",
    "s.append(4)\n",
    "print(t)"
   ]
  },
  {
   "cell_type": "code",
   "execution_count": 24,
   "metadata": {},
   "outputs": [
    {
     "name": "stdout",
     "output_type": "stream",
     "text": [
      "[1, 2, 3]\n"
     ]
    }
   ],
   "source": [
    "s=[1,2,3]\n",
    "t=s.copy()  # make a copy instead of reference to same object\n",
    "s.append(4)\n",
    "print(t)"
   ]
  },
  {
   "cell_type": "markdown",
   "metadata": {},
   "source": [
    "# Deleting an object"
   ]
  },
  {
   "cell_type": "code",
   "execution_count": null,
   "metadata": {},
   "outputs": [],
   "source": [
    "s=\"abcde\"\n",
    "print(s)\n",
    "del(s)\n",
    "print(s)"
   ]
  },
  {
   "cell_type": "markdown",
   "metadata": {},
   "source": [
    "# Locals()"
   ]
  },
  {
   "cell_type": "code",
   "execution_count": 5,
   "metadata": {},
   "outputs": [
    {
     "data": {
      "text/plain": [
       "{'In': ['',\n",
       "  'locals()',\n",
       "  'locals()',\n",
       "  's=\"abcde\"\\nprint(s)\\ndel(s)\\nprint(s)',\n",
       "  'str=\"this is a test\"\\nprint(type(str))\\n#\\n# we can create markdown cells for comments\\n# or we can put comments inside cells consisting of code\\n#\\nn=len(str)\\nprint(n)\\n#\\n# we can refer to particular elements in a string using\\n# square brackets with values 0,1,...,length of string-1.\\n#\\nprint(str[0])\\nprint(str[len(str)-1])',\n",
       "  'locals()'],\n",
       " 'Out': {1: {...}, 2: {...}},\n",
       " '_': {...},\n",
       " '_1': {...},\n",
       " '_2': {...},\n",
       " '__': {...},\n",
       " '___': '',\n",
       " '__builtin__': <module 'builtins' (built-in)>,\n",
       " '__builtins__': <module 'builtins' (built-in)>,\n",
       " '__doc__': 'Automatically created module for IPython interactive environment',\n",
       " '__loader__': None,\n",
       " '__name__': '__main__',\n",
       " '__package__': None,\n",
       " '__spec__': None,\n",
       " '_dh': ['C:\\\\Users\\\\dnaiman1\\\\Documents\\\\PythonProjects'],\n",
       " '_i': 'str=\"this is a test\"\\nprint(type(str))\\n#\\n# we can create markdown cells for comments\\n# or we can put comments inside cells consisting of code\\n#\\nn=len(str)\\nprint(n)\\n#\\n# we can refer to particular elements in a string using\\n# square brackets with values 0,1,...,length of string-1.\\n#\\nprint(str[0])\\nprint(str[len(str)-1])',\n",
       " '_i1': 'locals()',\n",
       " '_i2': 'locals()',\n",
       " '_i3': 's=\"abcde\"\\nprint(s)\\ndel(s)\\nprint(s)',\n",
       " '_i4': 'str=\"this is a test\"\\nprint(type(str))\\n#\\n# we can create markdown cells for comments\\n# or we can put comments inside cells consisting of code\\n#\\nn=len(str)\\nprint(n)\\n#\\n# we can refer to particular elements in a string using\\n# square brackets with values 0,1,...,length of string-1.\\n#\\nprint(str[0])\\nprint(str[len(str)-1])',\n",
       " '_i5': 'locals()',\n",
       " '_ih': ['',\n",
       "  'locals()',\n",
       "  'locals()',\n",
       "  's=\"abcde\"\\nprint(s)\\ndel(s)\\nprint(s)',\n",
       "  'str=\"this is a test\"\\nprint(type(str))\\n#\\n# we can create markdown cells for comments\\n# or we can put comments inside cells consisting of code\\n#\\nn=len(str)\\nprint(n)\\n#\\n# we can refer to particular elements in a string using\\n# square brackets with values 0,1,...,length of string-1.\\n#\\nprint(str[0])\\nprint(str[len(str)-1])',\n",
       "  'locals()'],\n",
       " '_ii': 's=\"abcde\"\\nprint(s)\\ndel(s)\\nprint(s)',\n",
       " '_iii': 'locals()',\n",
       " '_oh': {1: {...}, 2: {...}},\n",
       " 'exit': <IPython.core.autocall.ZMQExitAutocall at 0x56a4160>,\n",
       " 'get_ipython': <bound method InteractiveShell.get_ipython of <ipykernel.zmqshell.ZMQInteractiveShell object at 0x0000000005637DA0>>,\n",
       " 'n': 14,\n",
       " 'quit': <IPython.core.autocall.ZMQExitAutocall at 0x56a4160>,\n",
       " 'str': 'this is a test'}"
      ]
     },
     "execution_count": 5,
     "metadata": {},
     "output_type": "execute_result"
    }
   ],
   "source": [
    "locals()"
   ]
  },
  {
   "cell_type": "markdown",
   "metadata": {},
   "source": [
    "# Dictionaries (Maps)"
   ]
  },
  {
   "cell_type": "code",
   "execution_count": 25,
   "metadata": {},
   "outputs": [
    {
     "name": "stdout",
     "output_type": "stream",
     "text": [
      "Corolla\n",
      "Mustang\n",
      "Accord\n"
     ]
    }
   ],
   "source": [
    "car={'George':'Corolla','Karla':'Mustang','Jim':'Accord'}\n",
    "print(car['George'])\n",
    "print(car['Karla'])\n",
    "print(car['Jim'])"
   ]
  },
  {
   "cell_type": "code",
   "execution_count": 26,
   "metadata": {},
   "outputs": [
    {
     "name": "stdout",
     "output_type": "stream",
     "text": [
      "{'George': 'Corolla', 'Karla': 'Mustang', 'Jim': 'Accord', 'Harriet': 'Cadillac'}\n"
     ]
    }
   ],
   "source": [
    "car[\"Harriet\"]='Cadillac'\n",
    "print(car)"
   ]
  },
  {
   "cell_type": "code",
   "execution_count": 29,
   "metadata": {},
   "outputs": [
    {
     "name": "stdout",
     "output_type": "stream",
     "text": [
      "{'Dan': 'histruck'}\n"
     ]
    }
   ],
   "source": [
    "truck={}\n",
    "truck[\"Dan\"]=\"histruck\"\n",
    "print(truck)"
   ]
  },
  {
   "cell_type": "markdown",
   "metadata": {},
   "source": [
    "## values creates an object that can be converted to a list"
   ]
  },
  {
   "cell_type": "code",
   "execution_count": 23,
   "metadata": {},
   "outputs": [
    {
     "data": {
      "text/plain": [
       "dict_values(['Corolla', 'Mustang', 'Accord', 'Cadillac'])"
      ]
     },
     "execution_count": 23,
     "metadata": {},
     "output_type": "execute_result"
    }
   ],
   "source": [
    "car.values()"
   ]
  },
  {
   "cell_type": "code",
   "execution_count": 26,
   "metadata": {},
   "outputs": [
    {
     "data": {
      "text/plain": [
       "['Corolla', 'Mustang', 'Accord', 'Cadillac']"
      ]
     },
     "execution_count": 26,
     "metadata": {},
     "output_type": "execute_result"
    }
   ],
   "source": [
    "list(car.values())"
   ]
  },
  {
   "cell_type": "markdown",
   "metadata": {},
   "source": [
    "## keys "
   ]
  },
  {
   "cell_type": "code",
   "execution_count": 24,
   "metadata": {},
   "outputs": [
    {
     "data": {
      "text/plain": [
       "dict_keys(['George', 'Karla', 'Jim', 'Harriet'])"
      ]
     },
     "execution_count": 24,
     "metadata": {},
     "output_type": "execute_result"
    }
   ],
   "source": [
    "car.keys()"
   ]
  },
  {
   "cell_type": "code",
   "execution_count": 27,
   "metadata": {},
   "outputs": [
    {
     "data": {
      "text/plain": [
       "['George', 'Karla', 'Jim', 'Harriet']"
      ]
     },
     "execution_count": 27,
     "metadata": {},
     "output_type": "execute_result"
    }
   ],
   "source": [
    "list(car.keys())"
   ]
  },
  {
   "cell_type": "markdown",
   "metadata": {},
   "source": [
    "## changing a value"
   ]
  },
  {
   "cell_type": "code",
   "execution_count": 36,
   "metadata": {},
   "outputs": [
    {
     "name": "stdout",
     "output_type": "stream",
     "text": [
      "{'George': 'Beetle', 'Karla': 'Mustang', 'Jim': 'Accord'}\n"
     ]
    }
   ],
   "source": [
    "car[\"George\"]=\"Beetle\"\n",
    "print(car)"
   ]
  },
  {
   "cell_type": "markdown",
   "metadata": {},
   "source": [
    "## removing a key/value pair"
   ]
  },
  {
   "cell_type": "code",
   "execution_count": 30,
   "metadata": {},
   "outputs": [
    {
     "name": "stdout",
     "output_type": "stream",
     "text": [
      "{'George': 'Corolla', 'Karla': 'Mustang', 'Jim': 'Accord', 'Harriet': 'Cadillac'}\n",
      "{'Karla': 'Mustang', 'Jim': 'Accord', 'Harriet': 'Cadillac'}\n"
     ]
    }
   ],
   "source": [
    "print(car)\n",
    "car.pop(\"George\")\n",
    "print(car)"
   ]
  },
  {
   "cell_type": "markdown",
   "metadata": {},
   "source": [
    "# List Comprehension\n",
    "\n",
    "This is a powerful method for creating a new list from an existing one."
   ]
  },
  {
   "cell_type": "code",
   "execution_count": 31,
   "metadata": {},
   "outputs": [
    {
     "data": {
      "text/plain": [
       "[1, 36, 49, 64, 4, 16, 1, 25, 36, 49, 64, 16, 9, 25]"
      ]
     },
     "execution_count": 31,
     "metadata": {},
     "output_type": "execute_result"
    }
   ],
   "source": [
    "L=[1,6,7,8,2,4,1,5,6,7,8,4,3,5]\n",
    "[x**2 for x in L]"
   ]
  },
  {
   "cell_type": "code",
   "execution_count": 48,
   "metadata": {},
   "outputs": [
    {
     "data": {
      "text/plain": [
       "['b', 'g', 'h', 'i', 'c', 'e', 'b', 'f', 'g', 'h', 'i', 'e', 'd', 'f']"
      ]
     },
     "execution_count": 48,
     "metadata": {},
     "output_type": "execute_result"
    }
   ],
   "source": [
    "M=['a','b','c','d','e','f','g','h','i']\n",
    "[M[x] for x in L]"
   ]
  },
  {
   "cell_type": "code",
   "execution_count": 32,
   "metadata": {},
   "outputs": [
    {
     "data": {
      "text/plain": [
       "[6, 7, 6, 7]"
      ]
     },
     "execution_count": 32,
     "metadata": {},
     "output_type": "execute_result"
    }
   ],
   "source": [
    "[x for x in L if x>5 and x<8]"
   ]
  },
  {
   "cell_type": "code",
   "execution_count": 33,
   "metadata": {},
   "outputs": [
    {
     "data": {
      "text/plain": [
       "[1, 4, 1, 9]"
      ]
     },
     "execution_count": 33,
     "metadata": {},
     "output_type": "execute_result"
    }
   ],
   "source": [
    "[x**2 for x in L if x<4]"
   ]
  },
  {
   "cell_type": "code",
   "execution_count": 50,
   "metadata": {},
   "outputs": [
    {
     "data": {
      "text/plain": [
       "[0.5,\n",
       " 0.8571428571428571,\n",
       " 0.875,\n",
       " 0.8888888888888888,\n",
       " 0.6666666666666666,\n",
       " 0.8,\n",
       " 0.5,\n",
       " 0.8333333333333334,\n",
       " 0.8571428571428571,\n",
       " 0.875,\n",
       " 0.8888888888888888,\n",
       " 0.8,\n",
       " 0.75,\n",
       " 0.8333333333333334]"
      ]
     },
     "execution_count": 50,
     "metadata": {},
     "output_type": "execute_result"
    }
   ],
   "source": [
    "[x/(x+1) for x in L]"
   ]
  }
 ],
 "metadata": {
  "kernelspec": {
   "display_name": "Python 3",
   "language": "python",
   "name": "python3"
  },
  "language_info": {
   "codemirror_mode": {
    "name": "ipython",
    "version": 3
   },
   "file_extension": ".py",
   "mimetype": "text/x-python",
   "name": "python",
   "nbconvert_exporter": "python",
   "pygments_lexer": "ipython3",
   "version": "3.7.3"
  }
 },
 "nbformat": 4,
 "nbformat_minor": 2
}
