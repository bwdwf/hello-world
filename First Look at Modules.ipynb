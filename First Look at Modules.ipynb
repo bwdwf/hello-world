{
 "cells": [
  {
   "cell_type": "markdown",
   "metadata": {},
   "source": [
    "# A First Look at Modules\n",
    "\n",
    "## Most of the capabilities of Python are available through the use of add-ons referred to as _modules_. These typically provide is with additional objects in the form of more functions, as well as more complex data types together with their methods.\n",
    "\n",
    "## The easiest way to make a module available is to simply import it using  _import module-name_.\n",
    "\n",
    "## Here we take a quick look at the _math_ module. When we import the module, we access its objects and functions by using the module name as a prefix."
   ]
  },
  {
   "cell_type": "code",
   "execution_count": 10,
   "metadata": {},
   "outputs": [
    {
     "name": "stdout",
     "output_type": "stream",
     "text": [
      "3.141592653589793\n",
      "2.718281828459045\n",
      "2.5066282746310002\n",
      "23.140692632779263\n"
     ]
    }
   ],
   "source": [
    "import math\n",
    "print(math.pi)\n",
    "print(math.e)\n",
    "print(math.sqrt(2*math.pi)) # note multiplication uses * in Python\n",
    "print(math.e**math.pi) # note how to exponentiate in Python using **"
   ]
  },
  {
   "cell_type": "markdown",
   "metadata": {},
   "source": [
    "## When module names are longer, we might want to create an alias for the name to reduce the amount of typing. So we use the _import module-name as abbreviated-module-name_."
   ]
  },
  {
   "cell_type": "code",
   "execution_count": 11,
   "metadata": {},
   "outputs": [
    {
     "name": "stdout",
     "output_type": "stream",
     "text": [
      "3.141592653589793\n",
      "2.718281828459045\n",
      "2.5066282746310002\n",
      "23.140692632779263\n"
     ]
    }
   ],
   "source": [
    "import math as m\n",
    "print(m.pi)\n",
    "print(m.e)\n",
    "print(m.sqrt(2*m.pi)) # note multiplication uses * in Python\n",
    "print(m.e**m.pi) # note how to exponentiate in Python using **"
   ]
  },
  {
   "cell_type": "markdown",
   "metadata": {},
   "source": [
    "# The \\_\\_Builtins\\_\\_ Module\n",
    "## There is a module called \\_\\_builtins\\_\\_, (two underscores before and after the word builtins) where Python looks for its builtin functions like str or del. This module is always present, i.e. we don't have to tell Python to import it. Shortly we will see examples of modules that we will need to import in order to use."
   ]
  },
  {
   "cell_type": "code",
   "execution_count": 12,
   "metadata": {},
   "outputs": [
    {
     "ename": "TypeError",
     "evalue": "'str' object is not callable",
     "output_type": "error",
     "traceback": [
      "\u001b[1;31m---------------------------------------------------------------------------\u001b[0m",
      "\u001b[1;31mTypeError\u001b[0m                                 Traceback (most recent call last)",
      "\u001b[1;32m<ipython-input-12-f999fd3eb5ca>\u001b[0m in \u001b[0;36m<module>\u001b[1;34m\u001b[0m\n\u001b[0;32m      1\u001b[0m \u001b[0mstr\u001b[0m\u001b[1;33m=\u001b[0m\u001b[1;34m\"dog\"\u001b[0m\u001b[1;33m\u001b[0m\u001b[1;33m\u001b[0m\u001b[0m\n\u001b[1;32m----> 2\u001b[1;33m \u001b[0mprint\u001b[0m\u001b[1;33m(\u001b[0m\u001b[0mstr\u001b[0m\u001b[1;33m(\u001b[0m\u001b[1;36m3.14159\u001b[0m\u001b[1;33m)\u001b[0m\u001b[1;33m)\u001b[0m\u001b[1;33m\u001b[0m\u001b[1;33m\u001b[0m\u001b[0m\n\u001b[0m",
      "\u001b[1;31mTypeError\u001b[0m: 'str' object is not callable"
     ]
    }
   ],
   "source": [
    "str=\"dog\"\n",
    "print(str(3.14159))"
   ]
  },
  {
   "cell_type": "code",
   "execution_count": 14,
   "metadata": {},
   "outputs": [
    {
     "name": "stdout",
     "output_type": "stream",
     "text": [
      "3.14159\n"
     ]
    }
   ],
   "source": [
    "str=\"dog\"\n",
    "print(__builtins__.str(3.14159))"
   ]
  }
 ],
 "metadata": {
  "kernelspec": {
   "display_name": "Python 3",
   "language": "python",
   "name": "python3"
  },
  "language_info": {
   "codemirror_mode": {
    "name": "ipython",
    "version": 3
   },
   "file_extension": ".py",
   "mimetype": "text/x-python",
   "name": "python",
   "nbconvert_exporter": "python",
   "pygments_lexer": "ipython3",
   "version": "3.7.3"
  }
 },
 "nbformat": 4,
 "nbformat_minor": 4
}
