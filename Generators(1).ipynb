{
 "cells": [
  {
   "cell_type": "markdown",
   "metadata": {},
   "source": [
    "# Generators"
   ]
  },
  {
   "cell_type": "markdown",
   "metadata": {},
   "source": [
    "## Here is a link to a nice blog about Python generators.\n",
    "\n",
    "## https://jeffknupp.com/blog/2013/04/07/improve-your-python-yield-and-generators-explained/\n",
    "\n",
    "## and another informative page\n",
    "\n",
    "## http://anandology.com/python-practice-book/iterators.html\n"
   ]
  },
  {
   "cell_type": "markdown",
   "metadata": {},
   "source": [
    "## A generator can be viewed as a function capable of producing, when called, a next value in some sequence.\n",
    "\n",
    "## The idea is to write code for a function that can \n",
    "\n",
    "## * pause at some point in its execution,\n",
    "## * output a value,\n",
    "## * save the state of all of its local variables,\n",
    "## * allow user to re-enter the function to continue processing\n"
   ]
  },
  {
   "cell_type": "markdown",
   "metadata": {},
   "source": [
    "## We have already encountered an important example of a generator, namely, a random number generator. This object can be repeatedly called upon to produce a new output value, some parameters determining the state of the random number generator remains in place between calls. "
   ]
  },
  {
   "cell_type": "markdown",
   "metadata": {},
   "source": [
    "## We illustrate with Newton's method for finding a root of an equation.\n",
    "\n",
    "## Consider solving the equation $x^2-v=0$ for $x$ when $v$ is given.  If $x^*$ is our current approximate solution, we make a linear approximation of the function $y = x^2 - v$ at $x=x^*.$ The slope is $2x^*$ and the tangent line passes through the point $(x^*,x^*-v)$ so the line takes the form\n",
    "\n",
    "## $$y-(x^{*2}-v) = m (x-x^*).$$\n",
    "\n",
    "## Then we solve this when $y=0$ to get our new approximation\n",
    "\n",
    "## $$ x = x^* + (v-x^{*2})/2x^*.$$\n",
    "\n",
    "\n",
    "## We can write a generator that yields the successive approximations. \n",
    "\n",
    "## The basic idea is to insert a yield statement with some output value, the  interpretation being, output the value and leave the function's state intact so that reentry at that point can continue where the function left off."
   ]
  },
  {
   "cell_type": "code",
   "execution_count": 1,
   "metadata": {},
   "outputs": [],
   "source": [
    "def square_root_approximation(v,x0):\n",
    "    x=x0\n",
    "    while True:\n",
    "        m=2*x\n",
    "        x=x+(v-x**2)/m\n",
    "        yield(x)\n",
    "    "
   ]
  },
  {
   "cell_type": "code",
   "execution_count": 2,
   "metadata": {},
   "outputs": [],
   "source": [
    "g=square_root_approximation(2,1)"
   ]
  },
  {
   "cell_type": "code",
   "execution_count": 3,
   "metadata": {},
   "outputs": [
    {
     "name": "stdout",
     "output_type": "stream",
     "text": [
      "1.5\n",
      "1.4166666666666667\n",
      "1.4142156862745099\n"
     ]
    }
   ],
   "source": [
    "print(next(g))\n",
    "print(next(g))\n",
    "print(next(g))"
   ]
  },
  {
   "cell_type": "markdown",
   "metadata": {},
   "source": [
    "## We can create multiple generators using the same function. Each generator has its own state."
   ]
  },
  {
   "cell_type": "code",
   "execution_count": 4,
   "metadata": {},
   "outputs": [
    {
     "name": "stdout",
     "output_type": "stream",
     "text": [
      "1.5 2.0\n",
      "1.4166666666666667 1.75\n",
      "1.4142156862745099 1.7321428571428572\n",
      "1.4142135623746899 1.7320508100147276\n",
      "1.4142135623730951 1.7320508075688772\n",
      "1.414213562373095 1.7320508075688774\n",
      "1.4142135623730951 1.7320508075688772\n",
      "1.414213562373095 1.7320508075688774\n",
      "1.4142135623730951 1.7320508075688772\n",
      "1.414213562373095 1.7320508075688774\n"
     ]
    }
   ],
   "source": [
    "g2=square_root_approximation(2,1)\n",
    "g3=square_root_approximation(3,1)\n",
    "for i in range(10):\n",
    "    print(next(g2),next(g3))"
   ]
  },
  {
   "cell_type": "markdown",
   "metadata": {},
   "source": [
    "# The Sieve of Eratosthenes"
   ]
  },
  {
   "cell_type": "markdown",
   "metadata": {},
   "source": [
    "## A really good example of the use of a generator is in programming Sieve of Eratosthenes\n",
    "\n",
    "## https://en.wikipedia.org/wiki/Sieve_of_Eratosthenes\n",
    "\n",
    "## If we have a current list of the first n primes, there is a simple algorithm for getting  the next one. If p is the largest prime found, keep incrementing p until we get a number that is not divisible by any prime number in our current list.\n"
   ]
  },
  {
   "cell_type": "code",
   "execution_count": null,
   "metadata": {},
   "outputs": [],
   "source": [
    "def is_divisible_by_number_in_list(L,n):\n",
    "    for k in L:\n",
    "        if n%k==0:\n",
    "            return(True)\n",
    "    return(False)\n",
    "L=[2,3,5]\n",
    "print(is_divisible_by_number_in_list(L,6))\n",
    "print(is_divisible_by_number_in_list(L,7))\n"
   ]
  },
  {
   "cell_type": "code",
   "execution_count": null,
   "metadata": {},
   "outputs": [],
   "source": [
    "def generator_of_primes():\n",
    "    L=[2]\n",
    "    yield(2)\n",
    "    n=3\n",
    "    while True:\n",
    "        while(is_divisible_by_number_in_list(L,n)):\n",
    "            n=n+1\n",
    "        L.append(n)\n",
    "        yield(n)"
   ]
  },
  {
   "cell_type": "code",
   "execution_count": 14,
   "metadata": {},
   "outputs": [],
   "source": [
    "g=generator_of_primes()"
   ]
  },
  {
   "cell_type": "code",
   "execution_count": 15,
   "metadata": {},
   "outputs": [
    {
     "data": {
      "text/plain": [
       "2"
      ]
     },
     "execution_count": 15,
     "metadata": {},
     "output_type": "execute_result"
    }
   ],
   "source": [
    "next(g)"
   ]
  },
  {
   "cell_type": "code",
   "execution_count": 16,
   "metadata": {},
   "outputs": [],
   "source": [
    "h=g"
   ]
  },
  {
   "cell_type": "code",
   "execution_count": 17,
   "metadata": {},
   "outputs": [
    {
     "data": {
      "text/plain": [
       "3"
      ]
     },
     "execution_count": 17,
     "metadata": {},
     "output_type": "execute_result"
    }
   ],
   "source": [
    "next(h)"
   ]
  },
  {
   "cell_type": "markdown",
   "metadata": {},
   "source": [
    "# Generator Analogue to List Comprehension"
   ]
  },
  {
   "cell_type": "code",
   "execution_count": 1,
   "metadata": {},
   "outputs": [],
   "source": [
    "gsquares = (x*x for x in range(10))"
   ]
  },
  {
   "cell_type": "code",
   "execution_count": 2,
   "metadata": {},
   "outputs": [
    {
     "name": "stdout",
     "output_type": "stream",
     "text": [
      "<class 'generator'>\n"
     ]
    }
   ],
   "source": [
    "print(type(gsquares))"
   ]
  },
  {
   "cell_type": "code",
   "execution_count": 3,
   "metadata": {},
   "outputs": [
    {
     "name": "stdout",
     "output_type": "stream",
     "text": [
      "0\n",
      "1\n",
      "4\n",
      "9\n",
      "16\n"
     ]
    }
   ],
   "source": [
    "for i in range(5):\n",
    "    print(next(gsquares))"
   ]
  },
  {
   "cell_type": "code",
   "execution_count": null,
   "metadata": {},
   "outputs": [],
   "source": []
  }
 ],
 "metadata": {
  "kernelspec": {
   "display_name": "Python 3",
   "language": "python",
   "name": "python3"
  },
  "language_info": {
   "codemirror_mode": {
    "name": "ipython",
    "version": 3
   },
   "file_extension": ".py",
   "mimetype": "text/x-python",
   "name": "python",
   "nbconvert_exporter": "python",
   "pygments_lexer": "ipython3",
   "version": "3.7.3"
  }
 },
 "nbformat": 4,
 "nbformat_minor": 4
}
