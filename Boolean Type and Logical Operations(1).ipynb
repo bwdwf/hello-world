{
 "cells": [
  {
   "cell_type": "markdown",
   "metadata": {},
   "source": [
    "# Boolean type/Logical Functions/Operations"
   ]
  },
  {
   "cell_type": "markdown",
   "metadata": {},
   "source": [
    "## In Python, a variable can take a Boolean value (True/False). Then there are standard Boolean functions/operations are available. These are critical for controlling the flow of a program."
   ]
  },
  {
   "cell_type": "code",
   "execution_count": 7,
   "metadata": {},
   "outputs": [
    {
     "name": "stdout",
     "output_type": "stream",
     "text": [
      "<class 'bool'>\n"
     ]
    }
   ],
   "source": [
    "bvar1=True\n",
    "bvar2=False\n",
    "bvar3=True\n",
    "bvar4=False\n",
    "print(type(bvar1))"
   ]
  },
  {
   "cell_type": "markdown",
   "metadata": {},
   "source": [
    "## Not"
   ]
  },
  {
   "cell_type": "code",
   "execution_count": 14,
   "metadata": {},
   "outputs": [
    {
     "name": "stdout",
     "output_type": "stream",
     "text": [
      "not  True  =  False\n",
      "not  False  =  True\n"
     ]
    }
   ],
   "source": [
    "print(\"not \", str(bvar1), \" = \", str(not bvar1))\n",
    "print(\"not \", str(bvar2), \" = \", str(not bvar2))"
   ]
  },
  {
   "cell_type": "markdown",
   "metadata": {},
   "source": [
    "## And"
   ]
  },
  {
   "cell_type": "code",
   "execution_count": 11,
   "metadata": {},
   "outputs": [
    {
     "name": "stdout",
     "output_type": "stream",
     "text": [
      "True  and  True  =  True\n",
      "True  and  False  =  False\n",
      "False  and  True  =  False\n",
      "False  and  False  =  False\n"
     ]
    }
   ],
   "source": [
    "print(str(bvar1), \" and \", str(bvar3), \" = \", str(bvar1 and bvar3))\n",
    "print(str(bvar1), \" and \", str(bvar2), \" = \", str(bvar1 and bvar2))\n",
    "print(str(bvar2), \" and \", str(bvar1), \" = \", str(bvar2 and bvar1))\n",
    "print(str(bvar2), \" and \", str(bvar4), \" = \", str(bvar2 and bvar4))"
   ]
  },
  {
   "cell_type": "markdown",
   "metadata": {},
   "source": [
    "## Or"
   ]
  },
  {
   "cell_type": "code",
   "execution_count": 12,
   "metadata": {},
   "outputs": [
    {
     "name": "stdout",
     "output_type": "stream",
     "text": [
      "True  or  True  =  True\n",
      "True  or  False  =  True\n",
      "False  or  True  =  True\n",
      "False  or  False  =  False\n"
     ]
    }
   ],
   "source": [
    "print(str(bvar1), \" or \", str(bvar3), \" = \", str(bvar1 or bvar3))\n",
    "print(str(bvar1), \" or \", str(bvar2), \" = \", str(bvar1 or bvar2))\n",
    "print(str(bvar2), \" or \", str(bvar1), \" = \", str(bvar2 or bvar1))\n",
    "print(str(bvar2), \" or \", str(bvar4), \" = \", str(bvar2 or bvar4))"
   ]
  },
  {
   "cell_type": "markdown",
   "metadata": {},
   "source": [
    "# Comparisons - we can test whether strings take the same value, or how they compare in the usual lexicographic ordering"
   ]
  },
  {
   "cell_type": "code",
   "execution_count": 21,
   "metadata": {},
   "outputs": [
    {
     "name": "stdout",
     "output_type": "stream",
     "text": [
      "True\n",
      "False\n",
      "True\n",
      "False\n",
      "True\n"
     ]
    }
   ],
   "source": [
    "str1=\"dog\"\n",
    "str2=\"dog\"\n",
    "str3=\"cat\"\n",
    "print(str1==str2)\n",
    "print(str1==str3)"
   ]
  },
  {
   "cell_type": "code",
   "execution_count": 24,
   "metadata": {},
   "outputs": [
    {
     "name": "stdout",
     "output_type": "stream",
     "text": [
      "True\n",
      "False\n",
      "True\n",
      "False\n",
      "False\n",
      "True\n"
     ]
    }
   ],
   "source": [
    "print(str1<=str2)\n",
    "print(str1<str2)\n",
    "print(str1>=str2)\n",
    "print(str2>str1)\n",
    "print(str1<str3)\n",
    "print(str1>str3)"
   ]
  },
  {
   "cell_type": "code",
   "execution_count": 30,
   "metadata": {},
   "outputs": [
    {
     "name": "stdout",
     "output_type": "stream",
     "text": [
      "True\n",
      "False\n"
     ]
    }
   ],
   "source": [
    "print(\"A\"<\"a\")\n",
    "print(\"a\" < \"A\")"
   ]
  },
  {
   "cell_type": "markdown",
   "metadata": {},
   "source": [
    "## We can compare scalar values"
   ]
  },
  {
   "cell_type": "code",
   "execution_count": 32,
   "metadata": {},
   "outputs": [
    {
     "name": "stdout",
     "output_type": "stream",
     "text": [
      "True\n",
      "True\n",
      "False\n"
     ]
    }
   ],
   "source": [
    "x=87.2\n",
    "y=87.2\n",
    "z=90.3\n",
    "print(x==y)\n",
    "print(x<=y)\n",
    "print(x<y)"
   ]
  },
  {
   "cell_type": "markdown",
   "metadata": {},
   "source": [
    "## The \"is\" comparison is used not to check equality of values, but to check whether the variables refer to the same object in memory."
   ]
  },
  {
   "cell_type": "code",
   "execution_count": 34,
   "metadata": {},
   "outputs": [
    {
     "name": "stdout",
     "output_type": "stream",
     "text": [
      "True\n",
      "1548909782664\n",
      "1548909782664\n"
     ]
    }
   ],
   "source": [
    "str1=\"dog\"\n",
    "str2=\"dog\"\n",
    "print(str1 is str2)\n",
    "print(id(str2))\n",
    "print(id(str2))"
   ]
  },
  {
   "cell_type": "markdown",
   "metadata": {},
   "source": [
    "## We see that when we create two variables that take the same value, Python might create a single object in memory."
   ]
  },
  {
   "cell_type": "code",
   "execution_count": 42,
   "metadata": {},
   "outputs": [
    {
     "name": "stdout",
     "output_type": "stream",
     "text": [
      "True\n",
      "1548910290512\n",
      "1548910290512\n"
     ]
    }
   ],
   "source": [
    "str3=\"Thi\"\n",
    "str4=\"Thi\"\n",
    "print(str3 is str4)\n",
    "print(id(str3))\n",
    "print(id(str4))"
   ]
  },
  {
   "cell_type": "code",
   "execution_count": 45,
   "metadata": {},
   "outputs": [
    {
     "name": "stdout",
     "output_type": "stream",
     "text": [
      "True\n",
      "1548873255824\n",
      "1548873255824\n"
     ]
    }
   ],
   "source": [
    "str3=\"This\"\n",
    "str4=\"This\"\n",
    "print(str3 is str4)\n",
    "print(id(str3))\n",
    "print(id(str4))"
   ]
  },
  {
   "cell_type": "markdown",
   "metadata": {},
   "source": [
    "## Evidently this doesn't necessarily happen for longer strings."
   ]
  },
  {
   "cell_type": "code",
   "execution_count": 47,
   "metadata": {},
   "outputs": [
    {
     "name": "stdout",
     "output_type": "stream",
     "text": [
      "False\n",
      "1548910340464\n",
      "1548910339888\n"
     ]
    }
   ],
   "source": [
    "str3=\"This word\"\n",
    "str4=\"This word\"\n",
    "print(str3 is str4)\n",
    "print(id(str3))\n",
    "print(id(str4))"
   ]
  },
  {
   "cell_type": "code",
   "execution_count": null,
   "metadata": {},
   "outputs": [],
   "source": []
  }
 ],
 "metadata": {
  "kernelspec": {
   "display_name": "Python 3",
   "language": "python",
   "name": "python3"
  },
  "language_info": {
   "codemirror_mode": {
    "name": "ipython",
    "version": 3
   },
   "file_extension": ".py",
   "mimetype": "text/x-python",
   "name": "python",
   "nbconvert_exporter": "python",
   "pygments_lexer": "ipython3",
   "version": "3.7.3"
  }
 },
 "nbformat": 4,
 "nbformat_minor": 4
}
