{
 "cells": [
  {
   "cell_type": "markdown",
   "metadata": {},
   "source": [
    "# Control Flow in Python"
   ]
  },
  {
   "cell_type": "markdown",
   "metadata": {},
   "source": [
    "## It is often the case that a computing platform provides the ability to generate pseudo random samples from the Uniform(0,1) distribution. In an application involving Monte-Carlo simulation, it quite common to need samples from some more complicated distribution, and we build a random number generator using samples from the Uniform(0,1) distribution."
   ]
  },
  {
   "cell_type": "markdown",
   "metadata": {},
   "source": [
    "## Here is a specific example. Suppose we want to generate a Bernoulli(.7) random variable."
   ]
  },
  {
   "cell_type": "markdown",
   "metadata": {},
   "source": [
    "## if"
   ]
  },
  {
   "cell_type": "code",
   "execution_count": 13,
   "metadata": {},
   "outputs": [
    {
     "name": "stdout",
     "output_type": "stream",
     "text": [
      "0\n",
      "1\n",
      "1\n",
      "1\n",
      "0\n",
      "1\n",
      "1\n",
      "0\n",
      "1\n",
      "0\n"
     ]
    }
   ],
   "source": [
    "import numpy as np\n",
    "def myfunction(u):\n",
    "    if u<=.7:\n",
    "        return(1)\n",
    "    return(0)\n",
    "for i in range(10):\n",
    "    u=np.random.uniform(0,1)\n",
    "    print(myfunction(u))"
   ]
  },
  {
   "cell_type": "markdown",
   "metadata": {},
   "source": [
    "## Another way to code this is to use the if ... else ... construct."
   ]
  },
  {
   "cell_type": "code",
   "execution_count": 72,
   "metadata": {},
   "outputs": [
    {
     "name": "stdout",
     "output_type": "stream",
     "text": [
      "[1, 1, 1, 1, 0, 0, 0, 1, 1, 1, 1, 0, 1, 1, 1, 1, 0, 0, 1, 1, 0, 1, 1, 1, 0, 1, 0, 0, 0, 0, 1, 1, 1, 1, 0, 1, 1, 1, 0, 1, 0, 1, 1, 1, 0, 1, 1, 1, 0, 1, 1, 1, 0, 0, 1, 0, 1, 1, 1, 1, 1, 1, 1, 0, 0, 1, 1, 1, 0, 1, 1, 1, 1, 1, 1, 0, 1, 1, 1, 1, 1, 1, 1, 1, 1, 1, 0, 1, 1, 1, 0, 1, 1, 1, 1, 1, 1, 1, 0, 1]\n"
     ]
    }
   ],
   "source": [
    "import numpy as np\n",
    "def myfunction(u):\n",
    "    if u<=.7:\n",
    "        return(1)\n",
    "    else:\n",
    "        return(0)\n",
    "L=[]\n",
    "for i in range(100):\n",
    "    u=np.random.uniform(0,1)\n",
    "    L.append(myfunction(u))\n",
    "print(L)"
   ]
  },
  {
   "cell_type": "markdown",
   "metadata": {},
   "source": [
    "## And can test multiple conditions using if ... elif .. elif ... else."
   ]
  },
  {
   "cell_type": "code",
   "execution_count": 74,
   "metadata": {},
   "outputs": [
    {
     "name": "stdout",
     "output_type": "stream",
     "text": [
      "[2, 0, 0, 0, 3, 0, 3, 2, 0, 1, 3, 1, 1, 3, 1, 1, 0, 0, 3, 0, 1, 1, 1, 3, 0, 1, 3, 0, 0, 1, 2, 0, 0, 3, 2, 0, 0, 0, 2, 0, 1, 0, 2, 3, 0, 0, 2, 0, 0, 0, 2, 1, 3, 0, 1, 0, 0, 3, 0, 0, 3, 1, 3, 0, 0, 0, 0, 2, 0, 2, 0, 1, 0, 2, 1, 0, 0, 0, 2, 0, 0, 2, 0, 1, 0, 3, 2, 0, 3, 0, 1, 2, 0, 0, 1, 0, 1, 0, 0, 0]\n"
     ]
    }
   ],
   "source": [
    "def myfunction(u):\n",
    "    if 0 <= u and u <=.4:\n",
    "        return(0)\n",
    "    elif .4<u and u<=.6:\n",
    "        return(1)\n",
    "    elif .6<u and u<=.75:\n",
    "        return(2)\n",
    "    else:\n",
    "        return(3)\n",
    "import numpy as np\n",
    "L=[]\n",
    "for i in range(100):\n",
    "    L.append(myfunction(np.random.uniform(0,1)))\n",
    "print(L)"
   ]
  },
  {
   "cell_type": "markdown",
   "metadata": {},
   "source": [
    "## Here is an interesting game. I shuffle a deck of cards with an equal number of red and black cards, and start flipping the cards over one by one. You get to see the flipped cards. At any point in time, you can tell me to stop. Then, if the next card I flip is black, you win. If it is red, you lose. If you never tell me to stop, the winner is determined by the last card.\n",
    "\n",
    "## Is there a winning strategy?\n",
    "\n",
    "## Suppose your strategy is to wait until you've seed 3 more red cards than black cards, then tell me to stop.\n",
    "\n",
    "## Let's take 1 = black 0 = red\n"
   ]
  },
  {
   "cell_type": "code",
   "execution_count": 67,
   "metadata": {},
   "outputs": [
    {
     "name": "stdout",
     "output_type": "stream",
     "text": [
      "0.5085\n"
     ]
    }
   ],
   "source": [
    "import numpy as np\n",
    "\n",
    "def try_strategy3(deck):\n",
    "    counter0=0\n",
    "    counter1=0\n",
    "    for i in range(51):\n",
    "        counter1=counter1+deck[i]\n",
    "        counter0=counter0+(1-deck[i])\n",
    "        if counter0-counter1==3:\n",
    "            return(deck[i+1])\n",
    "    return(deck[51])\n",
    "\n",
    "N=10000\n",
    "result=np.zeros(N)\n",
    "for n in range(N):\n",
    "    deck=list(np.random.permutation([0 for i in range(26)]+[1 for i in range(26)]))\n",
    "    result[n]=try_strategy3(deck)\n",
    "print(np.mean(result))\n",
    "    \n",
    "    "
   ]
  },
  {
   "cell_type": "markdown",
   "metadata": {},
   "source": [
    "## ranges\n",
    "\n",
    "## We have seen the use of the for statement. It allows us to run a block of code repeatedly after setting some variable equal to some value, and over the values in any _container_.\n",
    "\n",
    "## Often the container we use is a range object. The simplest range object is defined using a single integer.\n"
   ]
  },
  {
   "cell_type": "code",
   "execution_count": 77,
   "metadata": {},
   "outputs": [
    {
     "name": "stdout",
     "output_type": "stream",
     "text": [
      "[0, 1, 2, 3, 4]\n"
     ]
    }
   ],
   "source": [
    "r=range(5)\n",
    "L=list(r)\n",
    "print(L)"
   ]
  },
  {
   "cell_type": "markdown",
   "metadata": {},
   "source": [
    "## We can also specify a first and a value which should not be included. "
   ]
  },
  {
   "cell_type": "code",
   "execution_count": 82,
   "metadata": {},
   "outputs": [
    {
     "name": "stdout",
     "output_type": "stream",
     "text": [
      "[5, 6, 7, 8, 9]\n"
     ]
    }
   ],
   "source": [
    "r=range(5,10)\n",
    "L=list(r)\n",
    "print(L)"
   ]
  },
  {
   "cell_type": "markdown",
   "metadata": {},
   "source": [
    "## Arguments must be integers, but we can convert from float to int if we need to."
   ]
  },
  {
   "cell_type": "code",
   "execution_count": 100,
   "metadata": {},
   "outputs": [
    {
     "name": "stdout",
     "output_type": "stream",
     "text": [
      "Sorry, you can't use floats in range\n",
      "[5, 6, 7]\n"
     ]
    }
   ],
   "source": [
    "try:\n",
    "    r=range(5.6,8.4)\n",
    "except TypeError:\n",
    "    print(\"Sorry, you can't use floats in range\")\n",
    "\n",
    "try:\n",
    "    r=range(int(5.6),int(8.4))\n",
    "except TypeError:\n",
    "    pass\n",
    "   \n",
    "print(list(r))    \n"
   ]
  },
  {
   "cell_type": "markdown",
   "metadata": {},
   "source": [
    "## We can get an empty range."
   ]
  },
  {
   "cell_type": "code",
   "execution_count": 84,
   "metadata": {},
   "outputs": [
    {
     "name": "stdout",
     "output_type": "stream",
     "text": [
      "[]\n"
     ]
    }
   ],
   "source": [
    "r=range(10,5)\n",
    "print(list(r))"
   ]
  },
  {
   "cell_type": "markdown",
   "metadata": {},
   "source": [
    "## And we can specify a step-size for a range."
   ]
  },
  {
   "cell_type": "code",
   "execution_count": 90,
   "metadata": {},
   "outputs": [
    {
     "name": "stdout",
     "output_type": "stream",
     "text": [
      "[1, 3, 5, 7, 9]\n",
      "[1, 3, 5, 7, 9, 11]\n",
      "[10, 9, 8, 7, 6]\n"
     ]
    }
   ],
   "source": [
    "r=range(1,11,2)\n",
    "print(list(r))\n",
    "r=range(1,12,2)\n",
    "print(list(r))\n",
    "r=range(10,5,-1)\n",
    "print(list(r))"
   ]
  },
  {
   "cell_type": "markdown",
   "metadata": {},
   "source": [
    "## break\n",
    "## The break statement in a for loop causes exit of the current loop."
   ]
  },
  {
   "cell_type": "code",
   "execution_count": 103,
   "metadata": {},
   "outputs": [
    {
     "name": "stdout",
     "output_type": "stream",
     "text": [
      "0\n",
      "1\n",
      "2\n",
      "3\n",
      "4\n",
      "5\n"
     ]
    }
   ],
   "source": [
    "for i in range(10):\n",
    "    if i>5:\n",
    "        break\n",
    "    print(i)"
   ]
  },
  {
   "cell_type": "markdown",
   "metadata": {},
   "source": [
    "## In the case of nested loops, the current loop is the one that is broken out of."
   ]
  },
  {
   "cell_type": "code",
   "execution_count": 112,
   "metadata": {},
   "outputs": [
    {
     "name": "stdout",
     "output_type": "stream",
     "text": [
      "i = 0 j = 0 i+j = 0\n",
      "i = 0 j = 1 i+j = 1\n",
      "i = 0 j = 2 i+j = 2\n",
      "i = 0 j = 3 i+j = 3\n",
      "break\n",
      "i = 1 j = 0 i+j = 1\n",
      "i = 1 j = 1 i+j = 2\n",
      "i = 1 j = 2 i+j = 3\n",
      "break\n",
      "i = 2 j = 0 i+j = 2\n",
      "i = 2 j = 1 i+j = 3\n",
      "break\n"
     ]
    }
   ],
   "source": [
    "for i in range(3):\n",
    "    for j in range(4):\n",
    "        print(\"i = \" + str(i) + \" j = \" + str(j) + \" i+j = \" + str(i+j))\n",
    "        if i+j>2:\n",
    "            print(\"break\")\n",
    "            break\n",
    "        "
   ]
  },
  {
   "cell_type": "markdown",
   "metadata": {},
   "source": [
    "## What happens if we change the value of the looping variable?\n",
    "## Here is an example. "
   ]
  },
  {
   "cell_type": "code",
   "execution_count": 123,
   "metadata": {},
   "outputs": [
    {
     "name": "stdout",
     "output_type": "stream",
     "text": [
      "0\n",
      "1\n",
      "3\n",
      "3\n",
      "3\n",
      "3\n"
     ]
    }
   ],
   "source": [
    "for i in range(6):\n",
    "    if i>1:\n",
    "        i=3\n",
    "    print(i)"
   ]
  },
  {
   "cell_type": "markdown",
   "metadata": {},
   "source": [
    "## continue\n",
    "\n",
    "## The continue statement causes the program to ignore all of the remaining code in the block of the for loop and proceed as if to the next value to process in the for loop."
   ]
  },
  {
   "cell_type": "code",
   "execution_count": 127,
   "metadata": {},
   "outputs": [
    {
     "name": "stdout",
     "output_type": "stream",
     "text": [
      "0\n",
      "1\n",
      "2\n",
      "4\n"
     ]
    }
   ],
   "source": [
    "for i in range(5):\n",
    "    if i==3:\n",
    "        continue\n",
    "    print(i)"
   ]
  },
  {
   "cell_type": "markdown",
   "metadata": {},
   "source": [
    "## pass \n",
    "\n",
    "## The statement is used as a placeholder. It has no effect. We often use it when we are coding and haven't written some code for some cases."
   ]
  },
  {
   "cell_type": "code",
   "execution_count": 128,
   "metadata": {},
   "outputs": [
    {
     "name": "stdout",
     "output_type": "stream",
     "text": [
      "0\n",
      "1\n",
      "2\n",
      "3\n",
      "4\n"
     ]
    }
   ],
   "source": [
    "for i in range(5):\n",
    "    if i>3:\n",
    "        pass\n",
    "    print(i)"
   ]
  },
  {
   "cell_type": "markdown",
   "metadata": {},
   "source": [
    "# while\n",
    "\n",
    "## When a while statement is used, a condition is checked and the block of code is executed if that condition is satisfied.\n",
    "\n",
    "## Note the use of i+=1 which is an abbreviation for i=i+1."
   ]
  },
  {
   "cell_type": "code",
   "execution_count": 130,
   "metadata": {},
   "outputs": [
    {
     "name": "stdout",
     "output_type": "stream",
     "text": [
      "2\n",
      "3\n",
      "4\n",
      "5\n"
     ]
    }
   ],
   "source": [
    "i=1\n",
    "while i<5:\n",
    "    i+=1\n",
    "    print(i)"
   ]
  },
  {
   "cell_type": "markdown",
   "metadata": {},
   "source": [
    "## break and continue have meaning in a while loop"
   ]
  },
  {
   "cell_type": "code",
   "execution_count": 135,
   "metadata": {},
   "outputs": [
    {
     "name": "stdout",
     "output_type": "stream",
     "text": [
      "23\n",
      "24\n",
      "25\n",
      "26\n",
      "27\n",
      "28\n"
     ]
    }
   ],
   "source": [
    "i=1\n",
    "while i<100:\n",
    "    i+=1\n",
    "    if i<23: \n",
    "        continue\n",
    "    if i>28:\n",
    "        break\n",
    "    print(i)"
   ]
  },
  {
   "cell_type": "markdown",
   "metadata": {},
   "source": [
    "## Switch in Python\n",
    "\n",
    "## Many programming languages have a _switch .. case .. case .._ function, that is, a function that carries out some task depending on the value of a variabl. While the Python language does not have an equivalent, we can use a dictionary to achieve the same result.\n",
    "\n",
    "## An easy case is when just want to do translation of a finite collection of values."
   ]
  },
  {
   "cell_type": "code",
   "execution_count": 136,
   "metadata": {},
   "outputs": [
    {
     "name": "stdout",
     "output_type": "stream",
     "text": [
      "Jan\n",
      "Feb\n",
      "Mar\n",
      "Apr\n",
      "May\n",
      "Jun\n",
      "Jul\n",
      "Aug\n",
      "Sep\n",
      "Oct\n",
      "Nov\n",
      "Dec\n"
     ]
    }
   ],
   "source": [
    "month_name={1:'Jan',2:'Feb',3:'Mar',4:'Apr',5:'May',6:'Jun',7:'Jul',8:'Aug',9:'Sep',10:'Oct',11:'Nov',12:'Dec'}\n",
    "for i in range(1,13):\n",
    "    print(month_name[i])"
   ]
  },
  {
   "cell_type": "markdown",
   "metadata": {},
   "source": [
    "## In Python, values in a dictionary can be functions."
   ]
  },
  {
   "cell_type": "code",
   "execution_count": 140,
   "metadata": {},
   "outputs": [
    {
     "data": {
      "text/plain": [
       "9"
      ]
     },
     "execution_count": 140,
     "metadata": {},
     "output_type": "execute_result"
    }
   ],
   "source": [
    "def Q1function(x):\n",
    "    return(x**2)\n",
    "def Q2function(x):\n",
    "    return(x-1)\n",
    "def Q3function(x):\n",
    "    return(x**3)\n",
    "def Q4function(x):\n",
    "    return(1.4)\n",
    "\n",
    "qfunction={\"Q1\":Q1function,\"Q2\":Q2function,\"Q3\":Q3function,\"Q4\":Q4function}"
   ]
  },
  {
   "cell_type": "code",
   "execution_count": 145,
   "metadata": {},
   "outputs": [
    {
     "name": "stdout",
     "output_type": "stream",
     "text": [
      "0.5\n",
      "1.953125\n"
     ]
    }
   ],
   "source": [
    "print(qfunction[\"Q2\"](1.5))\n",
    "print(qfunction[\"Q3\"](1.25))"
   ]
  },
  {
   "cell_type": "code",
   "execution_count": null,
   "metadata": {},
   "outputs": [],
   "source": []
  }
 ],
 "metadata": {
  "kernelspec": {
   "display_name": "Python 3",
   "language": "python",
   "name": "python3"
  },
  "language_info": {
   "codemirror_mode": {
    "name": "ipython",
    "version": 3
   },
   "file_extension": ".py",
   "mimetype": "text/x-python",
   "name": "python",
   "nbconvert_exporter": "python",
   "pygments_lexer": "ipython3",
   "version": "3.7.3"
  }
 },
 "nbformat": 4,
 "nbformat_minor": 4
}
