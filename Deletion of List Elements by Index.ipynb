{
 "cells": [
  {
   "cell_type": "markdown",
   "metadata": {},
   "source": [
    "# Deletion of List Elements by Index"
   ]
  },
  {
   "cell_type": "code",
   "execution_count": 1,
   "metadata": {},
   "outputs": [
    {
     "name": "stdout",
     "output_type": "stream",
     "text": [
      "list = \n",
      "value[0] = 23\n",
      "value[1] = 37\n",
      "value[2] = 89\n",
      "value[3] = 46\n",
      "value[4] = 5\n",
      "value[5] = -103\n",
      "value[6] = 47\n",
      "list = \n",
      "value[0] = 23\n",
      "value[1] = 37\n",
      "value[2] = 46\n",
      "value[3] = 5\n",
      "value[4] = -103\n",
      "value[5] = 47\n",
      "list = \n",
      "value[0] = 23\n",
      "value[1] = 37\n",
      "value[2] = -103\n",
      "value[3] = 47\n"
     ]
    }
   ],
   "source": [
    "def print_list(L):\n",
    "    print(\"list = \")\n",
    "    for i in range(len(L)):\n",
    "        print(\"value[\"+str(i)+\"] = \"+str(L[i]))\n",
    "x=[23,37,89,46,5,1-104,47]\n",
    "print_list(x)             \n",
    "del x[2]\n",
    "print_list(x)\n",
    "del x[2:4]\n",
    "print_list(x)"
   ]
  },
  {
   "cell_type": "code",
   "execution_count": null,
   "metadata": {},
   "outputs": [],
   "source": []
  }
 ],
 "metadata": {
  "kernelspec": {
   "display_name": "Python 3",
   "language": "python",
   "name": "python3"
  },
  "language_info": {
   "codemirror_mode": {
    "name": "ipython",
    "version": 3
   },
   "file_extension": ".py",
   "mimetype": "text/x-python",
   "name": "python",
   "nbconvert_exporter": "python",
   "pygments_lexer": "ipython3",
   "version": "3.7.3"
  }
 },
 "nbformat": 4,
 "nbformat_minor": 4
}
