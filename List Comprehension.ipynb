{
 "cells": [
  {
   "cell_type": "markdown",
   "metadata": {},
   "source": [
    "# List Comprehension\n",
    "## There is a very powerful way of creating new lists from old ones in Python and avoiding writing for loops.\n",
    "\n",
    "## The simplest version of list comprehension uses \n",
    "##           [expression for value in list]"
   ]
  },
  {
   "cell_type": "code",
   "execution_count": 7,
   "metadata": {},
   "outputs": [
    {
     "name": "stdout",
     "output_type": "stream",
     "text": [
      "[1, 36, 49, 64, 4, 16, 1, 25, 36, 49, 64, 16, 9, 25]\n"
     ]
    }
   ],
   "source": [
    "L=[1,6,7,8,2,4,1,5,6,7,8,4,3,5]\n",
    "Lnew=[x**2 for x in L]\n",
    "print(Lnew)"
   ]
  },
  {
   "cell_type": "markdown",
   "metadata": {},
   "source": [
    "## The \"x\" used in the example above is a dummy variable like we use in a for loop, and the expression usually contains that variable. But it doesn't have to."
   ]
  },
  {
   "cell_type": "code",
   "execution_count": 10,
   "metadata": {},
   "outputs": [
    {
     "name": "stdout",
     "output_type": "stream",
     "text": [
      "[0, 0, 0, 0, 0, 0, 0, 0, 0, 0]\n"
     ]
    }
   ],
   "source": [
    "L=[0 for i in range(10)]\n",
    "print(L)"
   ]
  },
  {
   "cell_type": "code",
   "execution_count": 14,
   "metadata": {},
   "outputs": [
    {
     "name": "stdout",
     "output_type": "stream",
     "text": [
      "[[1, 2, 3], [1, 2, 3], [1, 2, 3], [1, 2, 3]]\n"
     ]
    }
   ],
   "source": [
    "L=[[1,2,3] for i in range(4)]\n",
    "print(L)"
   ]
  },
  {
   "cell_type": "markdown",
   "metadata": {},
   "source": [
    "## And our expression could involve other objects, lists, etc.."
   ]
  },
  {
   "cell_type": "code",
   "execution_count": 8,
   "metadata": {},
   "outputs": [
    {
     "name": "stdout",
     "output_type": "stream",
     "text": [
      "['b', 'g', 'h', 'i', 'c', 'e', 'b', 'f', 'g', 'h', 'i', 'e', 'd', 'f']\n"
     ]
    }
   ],
   "source": [
    "L=[1,6,7,8,2,4,1,5,6,7,8,4,3,5]\n",
    "M=['a','b','c','d','e','f','g','h','i']\n",
    "Mnew=[M[x] for x in L]\n",
    "print(Mnew)"
   ]
  },
  {
   "cell_type": "markdown",
   "metadata": {},
   "source": [
    "## We can provide a condition for inclusion."
   ]
  },
  {
   "cell_type": "code",
   "execution_count": 21,
   "metadata": {},
   "outputs": [
    {
     "data": {
      "text/plain": [
       "[676, 729, 784]"
      ]
     },
     "execution_count": 21,
     "metadata": {},
     "output_type": "execute_result"
    }
   ],
   "source": [
    "[x**2 for x in range(100) if x>25 and x<29]"
   ]
  },
  {
   "cell_type": "markdown",
   "metadata": {},
   "source": [
    "# Iterated List Comprehension\n",
    "\n",
    "## What if we want to create a list of all pairs (i,j), i=1,2,4,5, and j=6,8,9,10?\n",
    "\n",
    "## We can create a double loop - the only question is which index comes first.  A good way to remember is how nested for loops would appear."
   ]
  },
  {
   "cell_type": "code",
   "execution_count": 32,
   "metadata": {},
   "outputs": [
    {
     "name": "stdout",
     "output_type": "stream",
     "text": [
      "[(1, 6), (1, 8), (1, 9), (1, 10), (2, 6), (2, 8), (2, 9), (2, 10), (4, 6), (4, 8), (4, 9), (4, 10), (5, 6), (5, 8), (5, 9), (5, 10)]\n"
     ]
    }
   ],
   "source": [
    "L=[]\n",
    "for i in range(1,6):\n",
    "    if i==3:\n",
    "        continue\n",
    "    for j in range(6,11):\n",
    "        if j==7:\n",
    "            continue\n",
    "        L.append((i,j))\n",
    "print(L)"
   ]
  },
  {
   "cell_type": "markdown",
   "metadata": {},
   "source": [
    "## Look how much shorter the list comprehension version is."
   ]
  },
  {
   "cell_type": "code",
   "execution_count": 33,
   "metadata": {},
   "outputs": [
    {
     "name": "stdout",
     "output_type": "stream",
     "text": [
      "[(1, 6), (1, 8), (1, 9), (1, 10), (2, 6), (2, 8), (2, 9), (2, 10), (4, 6), (4, 8), (4, 9), (4, 10), (5, 6), (5, 8), (5, 9), (5, 10)]\n"
     ]
    },
    {
     "data": {
      "text/plain": [
       "True"
      ]
     },
     "execution_count": 33,
     "metadata": {},
     "output_type": "execute_result"
    }
   ],
   "source": [
    "L2=[(i,j) for i in range(1,6) if not i==3 for j in range(6,11) if not j==7]\n",
    "print(L2)\n",
    "L==L2"
   ]
  },
  {
   "cell_type": "code",
   "execution_count": null,
   "metadata": {},
   "outputs": [],
   "source": []
  }
 ],
 "metadata": {
  "kernelspec": {
   "display_name": "Python 3",
   "language": "python",
   "name": "python3"
  },
  "language_info": {
   "codemirror_mode": {
    "name": "ipython",
    "version": 3
   },
   "file_extension": ".py",
   "mimetype": "text/x-python",
   "name": "python",
   "nbconvert_exporter": "python",
   "pygments_lexer": "ipython3",
   "version": "3.7.3"
  }
 },
 "nbformat": 4,
 "nbformat_minor": 4
}
