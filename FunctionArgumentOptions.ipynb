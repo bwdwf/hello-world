{
 "cells": [
  {
   "cell_type": "markdown",
   "metadata": {},
   "source": [
    "# Named/Keyword Arguments for Functions\n",
    "\n",
    "## For clarity it is helpful to allow our function arguments to have names.\n",
    "\n",
    "## For example, for solving \n",
    "\n",
    "## $$Ax^2 + Bx+ C = 0 $$\n",
    "\n",
    "## we usually write the quadratic formula in terms of A,B and C."
   ]
  },
  {
   "cell_type": "code",
   "execution_count": 9,
   "metadata": {},
   "outputs": [],
   "source": [
    "import cmath as c\n",
    "def quadratic_formula(A,B,C):\n",
    "    d=B*B-4*A*C\n",
    "    rtd=c.sqrt(d)\n",
    "    root1=(-B-rtd)/(2*A)\n",
    "    root2=(-B+rtd)/(2*A)\n",
    "    return((root1,root2))"
   ]
  },
  {
   "cell_type": "markdown",
   "metadata": {},
   "source": [
    "## When we pass arguments to the function, we can use positions of the arguments, and the order of the arguments matters."
   ]
  },
  {
   "cell_type": "code",
   "execution_count": 10,
   "metadata": {},
   "outputs": [
    {
     "name": "stdout",
     "output_type": "stream",
     "text": [
      "((-1-1.4142135623730951j), (-1+1.4142135623730951j))\n",
      "((-0.3333333333333333-0.47140452079103173j), (-0.3333333333333333+0.47140452079103173j))\n"
     ]
    }
   ],
   "source": [
    "print(quadratic_formula(1,2,3))\n",
    "print(quadratic_formula(3,2,1))"
   ]
  },
  {
   "cell_type": "markdown",
   "metadata": {},
   "source": [
    "## But we can also use names for the arguments, which allows us to pass values in any order."
   ]
  },
  {
   "cell_type": "code",
   "execution_count": 12,
   "metadata": {},
   "outputs": [
    {
     "name": "stdout",
     "output_type": "stream",
     "text": [
      "((-1-1.4142135623730951j), (-1+1.4142135623730951j))\n",
      "((-1-1.4142135623730951j), (-1+1.4142135623730951j))\n"
     ]
    }
   ],
   "source": [
    "print(quadratic_formula(A=1,B=2,C=3))\n",
    "print(quadratic_formula(C=3,A=1,B=2))\n"
   ]
  },
  {
   "cell_type": "markdown",
   "metadata": {},
   "source": [
    "## Default Values\n",
    "\n",
    "## We can specify default values when arguments are provided when the function is called.\n",
    "\n",
    "## When we do this, we must put all arguments with default values first. Then the arguments without defaults are positional unless otherwise indicated."
   ]
  },
  {
   "cell_type": "code",
   "execution_count": 37,
   "metadata": {},
   "outputs": [
    {
     "name": "stdout",
     "output_type": "stream",
     "text": [
      "(-1.7320508075688772j, 1.7320508075688772j)\n",
      "((-1-1.4142135623730951j), (-1+1.4142135623730951j))\n",
      "((-1-1.4142135623730951j), (-1+1.4142135623730951j))\n"
     ]
    }
   ],
   "source": [
    "import cmath as c\n",
    "def quadratic_formula(A,C,B=0):\n",
    "    d=B*B-4*A*C\n",
    "    rtd=c.sqrt(d)\n",
    "    root1=(-B-rtd)/(2*A)\n",
    "    root2=(-B+rtd)/(2*A)\n",
    "    return((root1,root2))\n",
    "print(quadratic_formula(A=1,C=3))\n",
    "print(quadratic_formula(A=1,C=3,B=2))\n",
    "print(quadratic_formula(1,3,B=2))"
   ]
  },
  {
   "cell_type": "markdown",
   "metadata": {},
   "source": [
    "## And in this case, any positional arguments must appear before named/keyword arguments"
   ]
  },
  {
   "cell_type": "code",
   "execution_count": 38,
   "metadata": {},
   "outputs": [
    {
     "ename": "SyntaxError",
     "evalue": "positional argument follows keyword argument (<ipython-input-38-867d05041e1e>, line 1)",
     "output_type": "error",
     "traceback": [
      "\u001b[1;36m  File \u001b[1;32m\"<ipython-input-38-867d05041e1e>\"\u001b[1;36m, line \u001b[1;32m1\u001b[0m\n\u001b[1;33m    print(quadratic_formula(B=2,1,3))\u001b[0m\n\u001b[1;37m                               ^\u001b[0m\n\u001b[1;31mSyntaxError\u001b[0m\u001b[1;31m:\u001b[0m positional argument follows keyword argument\n"
     ]
    }
   ],
   "source": [
    "print(quadratic_formula(B=2,1,3))"
   ]
  },
  {
   "cell_type": "markdown",
   "metadata": {},
   "source": [
    "# Optional Named Arguments\n",
    "\n",
    "## There are various examples of Python functions that use a variable number of positional arguments together with optional named arguments. Consider the print() function for example."
   ]
  },
  {
   "cell_type": "code",
   "execution_count": 13,
   "metadata": {},
   "outputs": [
    {
     "name": "stdout",
     "output_type": "stream",
     "text": [
      "Help on built-in function print in module builtins:\n",
      "\n",
      "print(...)\n",
      "    print(value, ..., sep=' ', end='\\n', file=sys.stdout, flush=False)\n",
      "    \n",
      "    Prints the values to a stream, or to sys.stdout by default.\n",
      "    Optional keyword arguments:\n",
      "    file:  a file-like object (stream); defaults to the current sys.stdout.\n",
      "    sep:   string inserted between values, default a space.\n",
      "    end:   string appended after the last value, default a newline.\n",
      "    flush: whether to forcibly flush the stream.\n",
      "\n"
     ]
    }
   ],
   "source": [
    "help(print)"
   ]
  },
  {
   "cell_type": "markdown",
   "metadata": {},
   "source": [
    "## We see that after a collection of values, any number of them, there are options like sep."
   ]
  },
  {
   "cell_type": "code",
   "execution_count": 18,
   "metadata": {},
   "outputs": [
    {
     "name": "stdout",
     "output_type": "stream",
     "text": [
      "my dog ate my homework\n",
      "my_dog_ate_my_homework\n",
      "my dog ate my homework\n",
      "my_dog_ate_my_homework\n",
      "\n",
      "my,dog,ate,my,homework\n"
     ]
    }
   ],
   "source": [
    "print(\"my\",\"dog\",\"ate\",\"my\",\"homework\")\n",
    "print(\"my\",\"dog\",\"ate\",\"my\",\"homework\",sep=\"_\")\n",
    "print(\"my\",\"dog\",\"ate\",\"my\",\"homework\",sep=\" \")\n",
    "print(\"my\",\"dog\",\"ate\",\"my\",\"homework\",sep=\"_\",end=\"\\n\\n\")\n",
    "print(\"my\",\"dog\",\"ate\",\"my\",\"homework\",sep=\",\")"
   ]
  },
  {
   "cell_type": "markdown",
   "metadata": {},
   "source": [
    "## Let's write that does something similar. It should output a string obtained concatenating the positional values, with a separating expression inserted between each string and ending in a ending string."
   ]
  },
  {
   "cell_type": "code",
   "execution_count": 54,
   "metadata": {},
   "outputs": [],
   "source": [
    "def concat_strings(*values,sep=\",\",end=\"\"):\n",
    "    mystring=\"\"\n",
    "    n=len(values)\n",
    "    for i in range(n-1):\n",
    "        mystring+=values[i]+sep\n",
    "    mystring+=values[n-1]+end\n",
    "    return(mystring)  "
   ]
  },
  {
   "cell_type": "code",
   "execution_count": 55,
   "metadata": {},
   "outputs": [
    {
     "name": "stdout",
     "output_type": "stream",
     "text": [
      "my,dog,ate,my,homework\n",
      "my_dog_ate_my_homework\n",
      "my dog ate my homework\n",
      "my_dog_ate_my_homework\n",
      "\n",
      "\n",
      "my,dog,ate,my,homework\n"
     ]
    }
   ],
   "source": [
    "print(concat_strings(\"my\",\"dog\",\"ate\",\"my\",\"homework\"))\n",
    "print(concat_strings(\"my\",\"dog\",\"ate\",\"my\",\"homework\",sep=\"_\"))\n",
    "print(concat_strings(\"my\",\"dog\",\"ate\",\"my\",\"homework\",sep=\" \"))\n",
    "print(concat_strings(\"my\",\"dog\",\"ate\",\"my\",\"homework\",sep=\"_\",end=\"\\n\\n\"))\n",
    "print(concat_strings(\"my\",\"dog\",\"ate\",\"my\",\"homework\",sep=\",\"))"
   ]
  },
  {
   "cell_type": "markdown",
   "metadata": {},
   "source": [
    "## If we want to require that all arguments to a function be keyword/named arguments, we can put the asterisk * by itself followed by the named arguments."
   ]
  },
  {
   "cell_type": "code",
   "execution_count": 56,
   "metadata": {},
   "outputs": [],
   "source": [
    "import cmath as c\n",
    "def quadratic_formula(*,A,B,C):\n",
    "    d=B*B-4*A*C\n",
    "    rtd=c.sqrt(d)\n",
    "    root1=(-B-rtd)/(2*A)\n",
    "    root2=(-B+rtd)/(2*A)\n",
    "    return((root1,root2))"
   ]
  },
  {
   "cell_type": "code",
   "execution_count": 58,
   "metadata": {},
   "outputs": [
    {
     "ename": "TypeError",
     "evalue": "quadratic_formula() takes 0 positional arguments but 3 were given",
     "output_type": "error",
     "traceback": [
      "\u001b[1;31m---------------------------------------------------------------------------\u001b[0m",
      "\u001b[1;31mTypeError\u001b[0m                                 Traceback (most recent call last)",
      "\u001b[1;32m<ipython-input-58-e349e9848db7>\u001b[0m in \u001b[0;36m<module>\u001b[1;34m\u001b[0m\n\u001b[1;32m----> 1\u001b[1;33m \u001b[0mprint\u001b[0m\u001b[1;33m(\u001b[0m\u001b[0mquadratic_formula\u001b[0m\u001b[1;33m(\u001b[0m\u001b[1;36m1\u001b[0m\u001b[1;33m,\u001b[0m\u001b[1;36m2\u001b[0m\u001b[1;33m,\u001b[0m\u001b[1;36m3\u001b[0m\u001b[1;33m)\u001b[0m\u001b[1;33m)\u001b[0m\u001b[1;33m\u001b[0m\u001b[1;33m\u001b[0m\u001b[0m\n\u001b[0m",
      "\u001b[1;31mTypeError\u001b[0m: quadratic_formula() takes 0 positional arguments but 3 were given"
     ]
    }
   ],
   "source": [
    "print(quadratic_formula(1,2,3))"
   ]
  },
  {
   "cell_type": "code",
   "execution_count": 59,
   "metadata": {},
   "outputs": [
    {
     "name": "stdout",
     "output_type": "stream",
     "text": [
      "((-1-1.4142135623730951j), (-1+1.4142135623730951j))\n"
     ]
    }
   ],
   "source": [
    "print(quadratic_formula(C=3,B=2,A=1))"
   ]
  },
  {
   "cell_type": "markdown",
   "metadata": {},
   "source": [
    "# Combining required positional arguments and optional arbitrary number of arguments\n",
    "\n",
    "## We can have required positional arguments followed by a variable with an asterisk meaning that any number of optional arguments are allowed."
   ]
  },
  {
   "cell_type": "code",
   "execution_count": 95,
   "metadata": {},
   "outputs": [],
   "source": [
    "def h(p1,p2,*extra):\n",
    "    print(\"first required positional argument is \" + str(p1))\n",
    "    print(\"second required positional argument is \" + str(p2))\n",
    "    if len(extra)>0:\n",
    "        ctr=0\n",
    "        for e in extra:\n",
    "            print(\"optional argument \" + str(ctr) + \" is \" + str(e))\n",
    "            ctr+=1\n",
    "    return   "
   ]
  },
  {
   "cell_type": "code",
   "execution_count": 100,
   "metadata": {},
   "outputs": [
    {
     "ename": "TypeError",
     "evalue": "h() missing 1 required positional argument: 'p2'",
     "output_type": "error",
     "traceback": [
      "\u001b[1;31m---------------------------------------------------------------------------\u001b[0m",
      "\u001b[1;31mTypeError\u001b[0m                                 Traceback (most recent call last)",
      "\u001b[1;32m<ipython-input-100-20b6f39e7dbb>\u001b[0m in \u001b[0;36m<module>\u001b[1;34m\u001b[0m\n\u001b[1;32m----> 1\u001b[1;33m \u001b[0mh\u001b[0m\u001b[1;33m(\u001b[0m\u001b[1;36m1\u001b[0m\u001b[1;33m)\u001b[0m\u001b[1;33m\u001b[0m\u001b[1;33m\u001b[0m\u001b[0m\n\u001b[0m",
      "\u001b[1;31mTypeError\u001b[0m: h() missing 1 required positional argument: 'p2'"
     ]
    }
   ],
   "source": [
    "h(1)"
   ]
  },
  {
   "cell_type": "code",
   "execution_count": 101,
   "metadata": {},
   "outputs": [
    {
     "name": "stdout",
     "output_type": "stream",
     "text": [
      "first required positional argument is 1\n",
      "second required positional argument is 2\n"
     ]
    }
   ],
   "source": [
    "h(1,2)"
   ]
  },
  {
   "cell_type": "code",
   "execution_count": 102,
   "metadata": {},
   "outputs": [
    {
     "name": "stdout",
     "output_type": "stream",
     "text": [
      "first required positional argument is 1\n",
      "second required positional argument is 2\n",
      "optional argument 0 is 3\n"
     ]
    }
   ],
   "source": [
    "h(1,2,3)"
   ]
  },
  {
   "cell_type": "code",
   "execution_count": 103,
   "metadata": {},
   "outputs": [
    {
     "name": "stdout",
     "output_type": "stream",
     "text": [
      "first required positional argument is 1\n",
      "second required positional argument is 2\n",
      "optional argument 0 is 3\n",
      "optional argument 1 is 4\n"
     ]
    }
   ],
   "source": [
    "h(1,2,3,4)"
   ]
  },
  {
   "cell_type": "markdown",
   "metadata": {},
   "source": [
    "# Arbitrary Numbers of Named/Keyword Arguments\n",
    "\n",
    "## We can allow for a function with an arbitary number of keyword arguments using double asterisks. The variable name is then interpreted by the function as a dictionary with the keyword=value pairs as key/value pairs."
   ]
  },
  {
   "cell_type": "code",
   "execution_count": 81,
   "metadata": {},
   "outputs": [],
   "source": [
    "def f(**kwargs):\n",
    "    for k in kwargs.keys():\n",
    "        print(\"key = \" + k + \"  value = \" + str(kwargs[k]))"
   ]
  },
  {
   "cell_type": "code",
   "execution_count": 82,
   "metadata": {},
   "outputs": [
    {
     "name": "stdout",
     "output_type": "stream",
     "text": [
      "key = a  value = dog\n",
      "key = b  value = cat\n",
      "key = c  value = 74\n"
     ]
    }
   ],
   "source": [
    "f(a=\"dog\",b=\"cat\",c=74)"
   ]
  },
  {
   "cell_type": "code",
   "execution_count": 83,
   "metadata": {},
   "outputs": [],
   "source": [
    "f()"
   ]
  },
  {
   "cell_type": "code",
   "execution_count": 87,
   "metadata": {},
   "outputs": [
    {
     "name": "stdout",
     "output_type": "stream",
     "text": [
      "key = u  value = 2\n"
     ]
    }
   ],
   "source": [
    "f(u=2)"
   ]
  },
  {
   "cell_type": "markdown",
   "metadata": {},
   "source": [
    "## Arbitrary numbers of positional values and names values can be obtained using the combination of these constructions."
   ]
  },
  {
   "cell_type": "code",
   "execution_count": 108,
   "metadata": {},
   "outputs": [],
   "source": [
    "def g(*pargs,**kwargs):\n",
    "    ctr=0\n",
    "    for p in pargs:\n",
    "        print(\"positional argument \" + str(ctr) + \" = \" + str(p))\n",
    "        ctr+=1\n",
    "    ctr=0\n",
    "    for k in kwargs.keys():\n",
    "        print(\"keyword argument = \" + str(ctr)+ \" key = \" + k + \"  value = \" + str(kwargs[k]))\n",
    "        ctr+=1"
   ]
  },
  {
   "cell_type": "code",
   "execution_count": 92,
   "metadata": {},
   "outputs": [
    {
     "name": "stdout",
     "output_type": "stream",
     "text": [
      "positional argument 0 = 1\n",
      "positional argument 1 = 2\n",
      "positional argument 2 = 3\n",
      "keyword argument = 0 key = a  value = 56\n",
      "keyword argument = 1 key = b  value = 92\n",
      "keyword argument = 2 key = c  value = joe\n"
     ]
    }
   ],
   "source": [
    "g(1,2,3,a=56,b=92,c=\"joe\")"
   ]
  },
  {
   "cell_type": "code",
   "execution_count": 109,
   "metadata": {},
   "outputs": [
    {
     "name": "stdout",
     "output_type": "stream",
     "text": [
      "keyword argument = 0 key = a  value = 56\n",
      "keyword argument = 1 key = b  value = 92\n",
      "keyword argument = 2 key = c  value = joe\n"
     ]
    }
   ],
   "source": [
    "g(a=56,b=92,c=\"joe\")"
   ]
  },
  {
   "cell_type": "markdown",
   "metadata": {},
   "source": [
    "## Finally, we can also have required arguments."
   ]
  },
  {
   "cell_type": "code",
   "execution_count": 110,
   "metadata": {},
   "outputs": [],
   "source": [
    "def y(r1, r2, *pargs,**kwargs):\n",
    "    print(\"required argument r1 = \"+str(r1))\n",
    "    print(\"required argument r2 = \"+str(r1))\n",
    "    ctr=0\n",
    "    for p in pargs:\n",
    "        print(\"positional argument \" + str(ctr) + \" = \" + str(p))\n",
    "        ctr+=1\n",
    "    ctr=0\n",
    "    for k in kwargs.keys():\n",
    "        print(\"keyword argument = \" + str(ctr)+ \" key = \" + k + \"  value = \" + str(kwargs[k]))\n",
    "        ctr+=1"
   ]
  },
  {
   "cell_type": "code",
   "execution_count": 111,
   "metadata": {},
   "outputs": [
    {
     "name": "stdout",
     "output_type": "stream",
     "text": [
      "required argument r1 = 1\n",
      "required argument r2 = 1\n"
     ]
    }
   ],
   "source": [
    "y(1,2)"
   ]
  },
  {
   "cell_type": "code",
   "execution_count": 112,
   "metadata": {},
   "outputs": [
    {
     "name": "stdout",
     "output_type": "stream",
     "text": [
      "required argument r1 = 1\n",
      "required argument r2 = 1\n",
      "keyword argument = 0 key = a  value = 1\n",
      "keyword argument = 1 key = b  value = 2\n",
      "keyword argument = 2 key = c  value = 4\n"
     ]
    }
   ],
   "source": [
    "y(1,2,a=1,b=2,c=4)"
   ]
  },
  {
   "cell_type": "code",
   "execution_count": 113,
   "metadata": {},
   "outputs": [
    {
     "name": "stdout",
     "output_type": "stream",
     "text": [
      "required argument r1 = 1\n",
      "required argument r2 = 1\n",
      "positional argument 0 = 3\n"
     ]
    }
   ],
   "source": [
    "y(1,2,3)"
   ]
  },
  {
   "cell_type": "code",
   "execution_count": 114,
   "metadata": {},
   "outputs": [
    {
     "name": "stdout",
     "output_type": "stream",
     "text": [
      "required argument r1 = 1\n",
      "required argument r2 = 1\n",
      "positional argument 0 = 3\n",
      "keyword argument = 0 key = x  value = 8\n"
     ]
    }
   ],
   "source": [
    "y(1,2,3,x=8)"
   ]
  },
  {
   "cell_type": "code",
   "execution_count": null,
   "metadata": {},
   "outputs": [],
   "source": []
  }
 ],
 "metadata": {
  "kernelspec": {
   "display_name": "Python 3",
   "language": "python",
   "name": "python3"
  },
  "language_info": {
   "codemirror_mode": {
    "name": "ipython",
    "version": 3
   },
   "file_extension": ".py",
   "mimetype": "text/x-python",
   "name": "python",
   "nbconvert_exporter": "python",
   "pygments_lexer": "ipython3",
   "version": "3.7.3"
  }
 },
 "nbformat": 4,
 "nbformat_minor": 4
}
