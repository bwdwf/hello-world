{
 "cells": [
  {
   "cell_type": "markdown",
   "metadata": {},
   "source": [
    "# Copying a List\n",
    "\n",
    "## By default, lists are _shallow-copied_. Consider the following example."
   ]
  },
  {
   "cell_type": "code",
   "execution_count": 27,
   "metadata": {},
   "outputs": [
    {
     "name": "stdout",
     "output_type": "stream",
     "text": [
      "[1, 2, [1, 2, 3, 78], 4, 5]\n",
      "[1, 2, [1, 2, 3, 78], 4, 5]\n"
     ]
    }
   ],
   "source": [
    "x=[1,2,3]\n",
    "L=[1,2,x,4,5]\n",
    "M=L.copy()\n",
    "x.append(78)\n",
    "print(L)\n",
    "print(M)"
   ]
  },
  {
   "cell_type": "markdown",
   "metadata": {},
   "source": [
    "## Why does L change when we made a _copy_ of L? Here, when L is copied, each element at the highest level (L[0],L[1],L[2],...) is copied but if that element is a reference to some other object, in this case x is a reference to the object [1,2,3] which is itself a list. So modifying that object (remember that lists are mutable!), changes the value in both L and M.\n",
    "\n",
    "## When x is a refernce to some immutable object, we get a different behavior. "
   ]
  },
  {
   "cell_type": "code",
   "execution_count": 29,
   "metadata": {},
   "outputs": [
    {
     "name": "stdout",
     "output_type": "stream",
     "text": [
      "[1, 2, 23, 4, 5]\n",
      "[1, 2, 23, 4, 5]\n"
     ]
    }
   ],
   "source": [
    "x=23\n",
    "L=[1,2,x,4,5]\n",
    "M=L.copy()\n",
    "x=47\n",
    "print(L)\n",
    "print(M)"
   ]
  },
  {
   "cell_type": "markdown",
   "metadata": {},
   "source": [
    "## Explanation: When we create a new object that x points to, L and M still retain references to some other object (in this case 23), and those references remain. "
   ]
  },
  {
   "cell_type": "code",
   "execution_count": 32,
   "metadata": {},
   "outputs": [
    {
     "name": "stdout",
     "output_type": "stream",
     "text": [
      "140722774251008\n",
      "140722774251008\n",
      "140722774251008\n",
      "140722774251776\n"
     ]
    }
   ],
   "source": [
    "x=23\n",
    "print(id(x))\n",
    "L=[1,2,x,4,5]\n",
    "M=L.copy()\n",
    "x=47\n",
    "print(id(L[2]))\n",
    "print(id(M[2]))\n",
    "print(id(x))"
   ]
  },
  {
   "cell_type": "markdown",
   "metadata": {},
   "source": [
    "## There will be times when we want to copy a list (or some other compound object) and make sure that copies are made recursively for any object in that list as well. For this, we can use the copy module to make a _deep_ copy."
   ]
  },
  {
   "cell_type": "code",
   "execution_count": 43,
   "metadata": {},
   "outputs": [
    {
     "name": "stdout",
     "output_type": "stream",
     "text": [
      "[1, 2, [1, 2, 3, [89, 90, 91], 78], 4, 5]\n",
      "[1, 2, [1, 2, 3, [89, 90]], 4, 5]\n"
     ]
    }
   ],
   "source": [
    "import copy\n",
    "\n",
    "y=[89,90]\n",
    "x=[1,2,3,y]\n",
    "L=[1,2,x,4,5]\n",
    "M=copy.deepcopy(L)\n",
    "y.append(91)\n",
    "x.append(78)\n",
    "print(L)\n",
    "print(M)"
   ]
  },
  {
   "cell_type": "code",
   "execution_count": null,
   "metadata": {},
   "outputs": [],
   "source": []
  }
 ],
 "metadata": {
  "kernelspec": {
   "display_name": "Python 3",
   "language": "python",
   "name": "python3"
  },
  "language_info": {
   "codemirror_mode": {
    "name": "ipython",
    "version": 3
   },
   "file_extension": ".py",
   "mimetype": "text/x-python",
   "name": "python",
   "nbconvert_exporter": "python",
   "pygments_lexer": "ipython3",
   "version": "3.7.3"
  }
 },
 "nbformat": 4,
 "nbformat_minor": 4
}
