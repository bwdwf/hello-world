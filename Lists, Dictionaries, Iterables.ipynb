{
 "cells": [
  {
   "cell_type": "markdown",
   "metadata": {},
   "source": [
    "# Lists"
   ]
  },
  {
   "cell_type": "code",
   "execution_count": 13,
   "metadata": {},
   "outputs": [
    {
     "name": "stdout",
     "output_type": "stream",
     "text": [
      "[1, 2]\n",
      "<class 'list'>\n"
     ]
    }
   ],
   "source": [
    "a=[1,2]\n",
    "print(a)\n",
    "print(type(a))"
   ]
  },
  {
   "cell_type": "code",
   "execution_count": 14,
   "metadata": {},
   "outputs": [
    {
     "name": "stdout",
     "output_type": "stream",
     "text": [
      "[3, 4, [1, 2]]\n"
     ]
    }
   ],
   "source": [
    "b=[3,4,a]\n",
    "print(b)"
   ]
  },
  {
   "cell_type": "code",
   "execution_count": 15,
   "metadata": {},
   "outputs": [
    {
     "name": "stdout",
     "output_type": "stream",
     "text": [
      "[[1, 2], [[1, 2], [3, 4, [1, 2]]], 'cat']\n"
     ]
    }
   ],
   "source": [
    "c=[a,[a,b],\"cat\"]\n",
    "print(c)"
   ]
  },
  {
   "cell_type": "code",
   "execution_count": 14,
   "metadata": {},
   "outputs": [
    {
     "name": "stdout",
     "output_type": "stream",
     "text": [
      "[1, 2]\n",
      "[[1, 2], [3, 4, [1, 2]]]\n",
      "cat\n",
      "[3, 4, [1, 2]]\n",
      "[1, 2]\n"
     ]
    }
   ],
   "source": [
    "print(c[0])\n",
    "print(c[1])\n",
    "print(c[2])\n",
    "print(c[1][1])\n",
    "print(c[1][1][2])"
   ]
  },
  {
   "cell_type": "markdown",
   "metadata": {},
   "source": [
    "# negative indices"
   ]
  },
  {
   "cell_type": "code",
   "execution_count": 53,
   "metadata": {},
   "outputs": [
    {
     "name": "stdout",
     "output_type": "stream",
     "text": [
      "f\n",
      "e\n",
      "['d', 'e', 'f']\n"
     ]
    }
   ],
   "source": [
    "x=['a','b','c','d','e','f']\n",
    "print(x[-1])\n",
    "print(x[-2])\n",
    "print(x[-3:])"
   ]
  },
  {
   "cell_type": "markdown",
   "metadata": {},
   "source": [
    "# List Methods\n",
    "## insert"
   ]
  },
  {
   "cell_type": "code",
   "execution_count": 3,
   "metadata": {},
   "outputs": [
    {
     "name": "stdout",
     "output_type": "stream",
     "text": [
      "[6, 2, 7, 8]\n",
      "[6, 2, 7, (5, 6, 7), 8]\n",
      "[6, 2, ['f', 'g', [5, 6]], 7, (5, 6, 7), 8]\n"
     ]
    }
   ],
   "source": [
    "a=[6,7,8]\n",
    "a.insert(1,2)\n",
    "print(a)\n",
    "a.insert(3,(5,6,7))\n",
    "print(a)\n",
    "a.insert(2,['f','g',[5,6]])\n",
    "print(a)"
   ]
  },
  {
   "cell_type": "markdown",
   "metadata": {},
   "source": [
    "## append"
   ]
  },
  {
   "cell_type": "code",
   "execution_count": 55,
   "metadata": {},
   "outputs": [
    {
     "name": "stdout",
     "output_type": "stream",
     "text": [
      "[6, 7, 8, 5]\n"
     ]
    }
   ],
   "source": [
    "a=[6,7,8]\n",
    "a.append(5)\n",
    "print(a)"
   ]
  },
  {
   "cell_type": "markdown",
   "metadata": {},
   "source": [
    "## remove"
   ]
  },
  {
   "cell_type": "code",
   "execution_count": 6,
   "metadata": {},
   "outputs": [
    {
     "name": "stdout",
     "output_type": "stream",
     "text": [
      "[5, 6, 7, 8, 6, 5, 6, 1]\n",
      "[5, 7, 8, 6, 5, 6, 1]\n",
      "[5, 7, 8, 5, 6, 1]\n"
     ]
    }
   ],
   "source": [
    "a=[6,5,6,7,8,6,5,6,1]\n",
    "a.remove(6)\n",
    "print(a)\n",
    "a.remove(6)\n",
    "print(a)\n",
    "a.remove(6)\n",
    "print(a)"
   ]
  },
  {
   "cell_type": "markdown",
   "metadata": {},
   "source": [
    "## sort"
   ]
  },
  {
   "cell_type": "code",
   "execution_count": 19,
   "metadata": {},
   "outputs": [
    {
     "name": "stdout",
     "output_type": "stream",
     "text": [
      "[0, 1, 2, 3, 4, 5, 6]\n"
     ]
    }
   ],
   "source": [
    "x=[4,2,5,1,3,0,6]\n",
    "x.sort()\n",
    "print(x)"
   ]
  },
  {
   "cell_type": "markdown",
   "metadata": {},
   "source": [
    "# Variables are _references_ \n",
    "\n",
    "Variables we define are actually references. The id function gives a unique identifier for every object we create. "
   ]
  },
  {
   "cell_type": "code",
   "execution_count": 20,
   "metadata": {},
   "outputs": [
    {
     "name": "stdout",
     "output_type": "stream",
     "text": [
      "35208416\n"
     ]
    }
   ],
   "source": [
    "s=\"abc\"\n",
    "print(id(s))"
   ]
  },
  {
   "cell_type": "markdown",
   "metadata": {},
   "source": [
    "Creating another variable and equating it to s does not create a new object. It simply makes that new variable point to the same object."
   ]
  },
  {
   "cell_type": "code",
   "execution_count": 21,
   "metadata": {},
   "outputs": [
    {
     "name": "stdout",
     "output_type": "stream",
     "text": [
      "abc\n",
      "35208416\n"
     ]
    }
   ],
   "source": [
    "t=s\n",
    "print(t)\n",
    "print(id(t))"
   ]
  },
  {
   "cell_type": "markdown",
   "metadata": {},
   "source": [
    "When we modify s by equating it to some other object we are saying make s refer to this other object. This will have no effect on t since t still points to the same object as before."
   ]
  },
  {
   "cell_type": "code",
   "execution_count": 22,
   "metadata": {},
   "outputs": [
    {
     "name": "stdout",
     "output_type": "stream",
     "text": [
      "original id of s = 91813288\n",
      "original id of t = 91813288\n",
      "new id of s = 43081376\n",
      "new id of t = 91813288\n"
     ]
    }
   ],
   "source": [
    "s=\"dog\"\n",
    "print(\"original id of s = \" + str(id(s)))\n",
    "t=s\n",
    "print(\"original id of t = \" + str(id(t)))\n",
    "s=\"cat\"\n",
    "print(\"new id of s = \" + str(id(s)))\n",
    "print(\"new id of t = \" + str(id(t)))"
   ]
  },
  {
   "cell_type": "markdown",
   "metadata": {},
   "source": [
    "## strings are _immutable_ & lists are _mutable_\n",
    "\n",
    "We can create new objects (e.g. substrings) from a given string but we cannot change a string. It has a property referred to as _immutability_, i.e. it is _immutable_.\n",
    "\n",
    "A list can change i.e. it is _mutable_. \n",
    "\n",
    "Failure to understand the distinction can lead to errors in coding."
   ]
  },
  {
   "cell_type": "code",
   "execution_count": 36,
   "metadata": {},
   "outputs": [
    {
     "name": "stdout",
     "output_type": "stream",
     "text": [
      "cat\n",
      "dog\n"
     ]
    }
   ],
   "source": [
    "s=\"dog\"   # create a string object 'dog' and make s point to it \n",
    "t=s       # t points to dog also\n",
    "s=\"cat\"   # create another string object 'cat' and make s point to it\n",
    "          # t still points to the previous string object\n",
    "          # that object remains in memory until all references to it \n",
    "          # are deleted\n",
    "print(s)\n",
    "print(t)  "
   ]
  },
  {
   "cell_type": "code",
   "execution_count": 37,
   "metadata": {},
   "outputs": [
    {
     "name": "stdout",
     "output_type": "stream",
     "text": [
      "96704584\n",
      "96704584\n"
     ]
    }
   ],
   "source": [
    "s=[1,2,3]\n",
    "print(id(s))\n",
    "s.append(4)   # object is modified but its id doesn't change\n",
    "              # we have not created a new object\n",
    "print(id(s))"
   ]
  },
  {
   "cell_type": "markdown",
   "metadata": {},
   "source": [
    "## what will happen in the following example?"
   ]
  },
  {
   "cell_type": "code",
   "execution_count": 1,
   "metadata": {},
   "outputs": [
    {
     "name": "stdout",
     "output_type": "stream",
     "text": [
      "[1, 2, 3, 4]\n"
     ]
    }
   ],
   "source": [
    "s=[1,2,3]\n",
    "t=s\n",
    "s.append(4)\n",
    "print(t)"
   ]
  },
  {
   "cell_type": "code",
   "execution_count": 2,
   "metadata": {},
   "outputs": [
    {
     "name": "stdout",
     "output_type": "stream",
     "text": [
      "[1, 2, 3]\n"
     ]
    }
   ],
   "source": [
    "s=[1,2,3]\n",
    "t=s.copy()  # make a copy instead of reference to same object\n",
    "s.append(4)\n",
    "print(t)"
   ]
  },
  {
   "cell_type": "markdown",
   "metadata": {},
   "source": [
    "# Deleting an object"
   ]
  },
  {
   "cell_type": "code",
   "execution_count": null,
   "metadata": {},
   "outputs": [],
   "source": [
    "s=\"abcde\"\n",
    "print(s)\n",
    "del(s)\n",
    "print(s)"
   ]
  },
  {
   "cell_type": "markdown",
   "metadata": {},
   "source": [
    "# Lists have the property of being _iterable_."
   ]
  },
  {
   "cell_type": "code",
   "execution_count": 14,
   "metadata": {},
   "outputs": [
    {
     "name": "stdout",
     "output_type": "stream",
     "text": [
      "abc\n",
      "def\n",
      "65\n",
      "ghi\n",
      "True\n"
     ]
    }
   ],
   "source": [
    "L=[\"abc\",\"def\",65, \"ghi\",True]\n",
    "for x in L:\n",
    "    print(x)"
   ]
  },
  {
   "cell_type": "markdown",
   "metadata": {},
   "source": [
    "# Dictionaries (Maps)\n",
    "\n",
    "A dictionary is a collection of key/value pairs. Think of a collection of values which we can refer to by name."
   ]
  },
  {
   "cell_type": "code",
   "execution_count": 3,
   "metadata": {},
   "outputs": [
    {
     "name": "stdout",
     "output_type": "stream",
     "text": [
      "Corolla\n",
      "Mustang\n",
      "Accord\n"
     ]
    }
   ],
   "source": [
    "car={'George':'Corolla','Karla':'Mustang','Jim':'Accord'}\n",
    "print(car['George'])\n",
    "print(car['Karla'])\n",
    "print(car['Jim'])"
   ]
  },
  {
   "cell_type": "code",
   "execution_count": 4,
   "metadata": {},
   "outputs": [
    {
     "name": "stdout",
     "output_type": "stream",
     "text": [
      "{'George': 'Corolla', 'Karla': 'Mustang', 'Jim': 'Accord', 'Harriet': 'Cadillac'}\n"
     ]
    }
   ],
   "source": [
    "car[\"Harriet\"]='Cadillac'\n",
    "print(car)"
   ]
  },
  {
   "cell_type": "code",
   "execution_count": 5,
   "metadata": {},
   "outputs": [
    {
     "name": "stdout",
     "output_type": "stream",
     "text": [
      "{'Dan': 'histruck'}\n"
     ]
    }
   ],
   "source": [
    "truck={}\n",
    "truck[\"Dan\"]=\"histruck\"\n",
    "print(truck)"
   ]
  },
  {
   "cell_type": "markdown",
   "metadata": {},
   "source": [
    "## values creates an object that can be converted to a list"
   ]
  },
  {
   "cell_type": "code",
   "execution_count": 6,
   "metadata": {},
   "outputs": [
    {
     "data": {
      "text/plain": [
       "dict_values(['Corolla', 'Mustang', 'Accord', 'Cadillac'])"
      ]
     },
     "execution_count": 6,
     "metadata": {},
     "output_type": "execute_result"
    }
   ],
   "source": [
    "car.values()"
   ]
  },
  {
   "cell_type": "code",
   "execution_count": 7,
   "metadata": {},
   "outputs": [
    {
     "data": {
      "text/plain": [
       "['Corolla', 'Mustang', 'Accord', 'Cadillac']"
      ]
     },
     "execution_count": 7,
     "metadata": {},
     "output_type": "execute_result"
    }
   ],
   "source": [
    "list(car.values())"
   ]
  },
  {
   "cell_type": "markdown",
   "metadata": {},
   "source": [
    "## keys "
   ]
  },
  {
   "cell_type": "code",
   "execution_count": 8,
   "metadata": {},
   "outputs": [
    {
     "data": {
      "text/plain": [
       "dict_keys(['George', 'Karla', 'Jim', 'Harriet'])"
      ]
     },
     "execution_count": 8,
     "metadata": {},
     "output_type": "execute_result"
    }
   ],
   "source": [
    "car.keys()"
   ]
  },
  {
   "cell_type": "code",
   "execution_count": 9,
   "metadata": {},
   "outputs": [
    {
     "data": {
      "text/plain": [
       "['George', 'Karla', 'Jim', 'Harriet']"
      ]
     },
     "execution_count": 9,
     "metadata": {},
     "output_type": "execute_result"
    }
   ],
   "source": [
    "list(car.keys())"
   ]
  },
  {
   "cell_type": "markdown",
   "metadata": {},
   "source": [
    "## changing a value"
   ]
  },
  {
   "cell_type": "code",
   "execution_count": 10,
   "metadata": {},
   "outputs": [
    {
     "name": "stdout",
     "output_type": "stream",
     "text": [
      "{'George': 'Beetle', 'Karla': 'Mustang', 'Jim': 'Accord', 'Harriet': 'Cadillac'}\n"
     ]
    }
   ],
   "source": [
    "car[\"George\"]=\"Beetle\"\n",
    "print(car)"
   ]
  },
  {
   "cell_type": "markdown",
   "metadata": {},
   "source": [
    "## removing a key/value pair"
   ]
  },
  {
   "cell_type": "code",
   "execution_count": 18,
   "metadata": {},
   "outputs": [
    {
     "name": "stdout",
     "output_type": "stream",
     "text": [
      "{'George': 'Corolla', 'Karla': 'Mustang', 'Jim': 'Accord'}\n",
      "{'Karla': 'Mustang', 'Jim': 'Accord'}\n"
     ]
    }
   ],
   "source": [
    "car={'George':'Corolla','Karla':'Mustang','Jim':'Accord'}\n",
    "print(car)\n",
    "car.pop('George')\n",
    "print(car)"
   ]
  },
  {
   "cell_type": "markdown",
   "metadata": {},
   "source": [
    "## If we try to remove a key that is not present, we get an error."
   ]
  },
  {
   "cell_type": "code",
   "execution_count": 21,
   "metadata": {},
   "outputs": [
    {
     "name": "stdout",
     "output_type": "stream",
     "text": [
      "{'George': 'Corolla', 'Karla': 'Mustang', 'Jim': 'Accord'}\n"
     ]
    },
    {
     "ename": "KeyError",
     "evalue": "'Harry'",
     "output_type": "error",
     "traceback": [
      "\u001b[1;31m---------------------------------------------------------------------------\u001b[0m",
      "\u001b[1;31mKeyError\u001b[0m                                  Traceback (most recent call last)",
      "\u001b[1;32m<ipython-input-21-0f78e2f5648d>\u001b[0m in \u001b[0;36m<module>\u001b[1;34m\u001b[0m\n\u001b[0;32m      1\u001b[0m \u001b[0mcar\u001b[0m\u001b[1;33m=\u001b[0m\u001b[1;33m{\u001b[0m\u001b[1;34m'George'\u001b[0m\u001b[1;33m:\u001b[0m\u001b[1;34m'Corolla'\u001b[0m\u001b[1;33m,\u001b[0m\u001b[1;34m'Karla'\u001b[0m\u001b[1;33m:\u001b[0m\u001b[1;34m'Mustang'\u001b[0m\u001b[1;33m,\u001b[0m\u001b[1;34m'Jim'\u001b[0m\u001b[1;33m:\u001b[0m\u001b[1;34m'Accord'\u001b[0m\u001b[1;33m}\u001b[0m\u001b[1;33m\u001b[0m\u001b[1;33m\u001b[0m\u001b[0m\n\u001b[0;32m      2\u001b[0m \u001b[0mprint\u001b[0m\u001b[1;33m(\u001b[0m\u001b[0mcar\u001b[0m\u001b[1;33m)\u001b[0m\u001b[1;33m\u001b[0m\u001b[1;33m\u001b[0m\u001b[0m\n\u001b[1;32m----> 3\u001b[1;33m \u001b[0mcar\u001b[0m\u001b[1;33m.\u001b[0m\u001b[0mpop\u001b[0m\u001b[1;33m(\u001b[0m\u001b[1;34m'Harry'\u001b[0m\u001b[1;33m)\u001b[0m\u001b[1;33m\u001b[0m\u001b[1;33m\u001b[0m\u001b[0m\n\u001b[0m",
      "\u001b[1;31mKeyError\u001b[0m: 'Harry'"
     ]
    }
   ],
   "source": [
    "car={'George':'Corolla','Karla':'Mustang','Jim':'Accord'}\n",
    "print(car)\n",
    "car.pop('Harry')"
   ]
  },
  {
   "cell_type": "markdown",
   "metadata": {},
   "source": [
    "# Try/Catch\n",
    "\n",
    "## In a complex program, we would use a try/except construct to ensure that an error is not fatal. Note that the Python interpreter gives us the name of the error, which we can catch and ignore. Here, the word pass is used to say don't do anything."
   ]
  },
  {
   "cell_type": "code",
   "execution_count": 24,
   "metadata": {},
   "outputs": [],
   "source": [
    "car={'George':'Corolla','Karla':'Mustang','Jim':'Accord'}\n",
    "try:\n",
    "    car.pop('Harry')\n",
    "except KeyError:\n",
    "    pass"
   ]
  },
  {
   "cell_type": "markdown",
   "metadata": {},
   "source": [
    "## Or we could print out a warning."
   ]
  },
  {
   "cell_type": "code",
   "execution_count": 26,
   "metadata": {},
   "outputs": [
    {
     "name": "stdout",
     "output_type": "stream",
     "text": [
      "Warning: Car key not found\n"
     ]
    }
   ],
   "source": [
    "car={'George':'Corolla','Karla':'Mustang','Jim':'Accord'}\n",
    "try:\n",
    "    car.pop('Harry')\n",
    "except KeyError:\n",
    "    print(\"Warning: Car key not found\")"
   ]
  },
  {
   "cell_type": "markdown",
   "metadata": {},
   "source": [
    "## The keys of a dictionary is an iterable object."
   ]
  },
  {
   "cell_type": "code",
   "execution_count": 30,
   "metadata": {},
   "outputs": [
    {
     "name": "stdout",
     "output_type": "stream",
     "text": [
      "George : Corolla\n",
      "Karla : Mustang\n",
      "Jim : Accord\n"
     ]
    }
   ],
   "source": [
    "car={'George':'Corolla','Karla':'Mustang','Jim':'Accord'}\n",
    "for k in car.keys():\n",
    "    print(k,\":\",car[k])"
   ]
  }
 ],
 "metadata": {
  "kernelspec": {
   "display_name": "Python 3",
   "language": "python",
   "name": "python3"
  },
  "language_info": {
   "codemirror_mode": {
    "name": "ipython",
    "version": 3
   },
   "file_extension": ".py",
   "mimetype": "text/x-python",
   "name": "python",
   "nbconvert_exporter": "python",
   "pygments_lexer": "ipython3",
   "version": "3.7.3"
  }
 },
 "nbformat": 4,
 "nbformat_minor": 4
}
